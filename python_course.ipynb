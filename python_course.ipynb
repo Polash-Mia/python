{
 "cells": [
  {
   "cell_type": "markdown",
   "id": "6038d8a9",
   "metadata": {},
   "source": [
    "#                              ************python_course************"
   ]
  },
  {
   "cell_type": "markdown",
   "id": "f04165f7",
   "metadata": {},
   "source": [
    "# comment:"
   ]
  },
  {
   "cell_type": "code",
   "execution_count": 1,
   "id": "4628d76c",
   "metadata": {},
   "outputs": [
    {
     "name": "stdout",
     "output_type": "stream",
     "text": [
      "polash\n"
     ]
    }
   ],
   "source": [
    "#single line comment\n",
    "print('polash')"
   ]
  },
  {
   "cell_type": "code",
   "execution_count": 2,
   "id": "5347459e",
   "metadata": {},
   "outputs": [
    {
     "name": "stdout",
     "output_type": "stream",
     "text": [
      "polash\n"
     ]
    }
   ],
   "source": [
    "\"\"\"This\n",
    "is\n",
    "multiline comment\"\"\"\n",
    "print(\"polash\")"
   ]
  },
  {
   "cell_type": "code",
   "execution_count": 3,
   "id": "9cda4145",
   "metadata": {},
   "outputs": [
    {
     "name": "stdout",
     "output_type": "stream",
     "text": [
      "polash\n"
     ]
    }
   ],
   "source": [
    "'''This\n",
    "is\n",
    "multiline comment'''\n",
    "print(\"polash\")"
   ]
  },
  {
   "cell_type": "markdown",
   "id": "42e52eca",
   "metadata": {},
   "source": [
    "# variable:"
   ]
  },
  {
   "cell_type": "code",
   "execution_count": 4,
   "id": "6c95789f",
   "metadata": {},
   "outputs": [
    {
     "name": "stdout",
     "output_type": "stream",
     "text": [
      "3\n",
      "polash\n",
      "3\n",
      "polash\n"
     ]
    }
   ],
   "source": [
    "#Variables are containers for storing data values.\n",
    "roll=3\n",
    "name=\"polash\"\n",
    "print(roll)\n",
    "print(name)\n",
    "# python use dynamic typing:\n",
    "a=3\n",
    "print(a)\n",
    "a=\"polash\"\n",
    "print(a)\n"
   ]
  },
  {
   "cell_type": "code",
   "execution_count": 1,
   "id": "7dc9d519",
   "metadata": {},
   "outputs": [
    {
     "name": "stdout",
     "output_type": "stream",
     "text": [
      "List of reserved word:\n",
      "  ['False', 'None', 'True', 'and', 'as', 'assert', 'async', 'await', 'break', 'class', 'continue', 'def', 'del', 'elif', 'else', 'except', 'finally', 'for', 'from', 'global', 'if', 'import', 'in', 'is', 'lambda', 'nonlocal', 'not', 'or', 'pass', 'raise', 'return', 'try', 'while', 'with', 'yield']\n"
     ]
    }
   ],
   "source": [
    "#Variable Names:\n",
    "'''\n",
    "*A variable name can only contain alpha-numeric characters\n",
    "and underscores (A-z, 0-9, and _ ).\n",
    "*A variable name cannot start with a number.\n",
    "*Variable names are case-sensitive.\n",
    "*Variable names can never contain spaces.\n",
    "*Variable names may not be a reserved word in Python.\n",
    "'''\n",
    "# Find out reserved word in Python:\n",
    "import keyword\n",
    "print(\"List of reserved word:\\n \",keyword.kwlist)\n"
   ]
  },
  {
   "cell_type": "code",
   "execution_count": 2,
   "id": "1a78e5ef",
   "metadata": {},
   "outputs": [
    {
     "name": "stdout",
     "output_type": "stream",
     "text": [
      "Polash\n",
      "Touhid\n",
      "Prince\n",
      "Asad\n",
      "Mehedi\n",
      "Raju\n",
      "Saju\n",
      "Shakib\n"
     ]
    }
   ],
   "source": [
    "name=\"Polash\"\n",
    "NAME=\"Touhid\"\n",
    "Name=\"Prince\"\n",
    "_name=\"Asad\"\n",
    "na_me=\"Mehedi\"\n",
    "name_=\"Raju\"\n",
    "nam2e=\"Saju\"\n",
    "name2=\"Shakib\"\n",
    "\n",
    "print(name)\n",
    "print(NAME)\n",
    "print(Name)\n",
    "print(_name)\n",
    "print(na_me)\n",
    "print(name_)\n",
    "print(nam2e)\n",
    "print(name2)\n"
   ]
  },
  {
   "cell_type": "code",
   "execution_count": 1,
   "id": "77d9309c",
   "metadata": {},
   "outputs": [
    {
     "name": "stdout",
     "output_type": "stream",
     "text": [
      "Polash\n",
      "Prince\n",
      "Asad\n"
     ]
    }
   ],
   "source": [
    "#Multiwords variable name:\n",
    "\n",
    "#Cammel case:\n",
    "myVariableName=\"Polash\"\n",
    "#Pascal case:\n",
    "MyVariableName=\"Prince\"\n",
    "#Snake case:\n",
    "my_variable_name=\"Asad\"\n",
    "\n",
    "\n",
    "print(myVariableName)\n",
    "print(MyVariableName)\n",
    "print(my_variable_name)"
   ]
  },
  {
   "cell_type": "code",
   "execution_count": 5,
   "id": "12dae462",
   "metadata": {},
   "outputs": [
    {
     "name": "stdout",
     "output_type": "stream",
     "text": [
      "Many value to multiple variable:\n",
      "5\n",
      "6\n",
      "7\n",
      "8\n",
      "one value to multiple variable:\n",
      "5\n",
      "5\n",
      "5\n",
      "5\n"
     ]
    }
   ],
   "source": [
    "#Multiple variable:\n",
    "\n",
    "#Many value to multiple variable:\n",
    "print(\"Many value to multiple variable:\")\n",
    "a,b,c,d=5,6,7,8   \n",
    "print(a)\n",
    "print(b)\n",
    "print(c)\n",
    "print(d)\n",
    "\n",
    "#one value to multiple variable:\n",
    "print(\"one value to multiple variable:\")\n",
    "a=b=c=d=5\n",
    "print(a)\n",
    "print(b)\n",
    "print(c)\n",
    "print(d)\n"
   ]
  },
  {
   "cell_type": "code",
   "execution_count": 13,
   "id": "7efabca1",
   "metadata": {},
   "outputs": [
    {
     "name": "stdout",
     "output_type": "stream",
     "text": [
      "apple\n",
      "banana\n",
      "cherry\n",
      "\n",
      "\n",
      "apple\n",
      "banana\n",
      "cherry\n",
      "\n",
      "\n",
      "apple\n",
      "banana\n",
      "cherry\n"
     ]
    }
   ],
   "source": [
    "#Unpack a Collection:\n",
    "fruits = [\"apple\", \"banana\", \"cherry\"]\n",
    "x, y, z = fruits\n",
    "print(x)\n",
    "print(y)\n",
    "print(z)\n",
    "\n",
    "print(\"\\n\")\n",
    "fruits = {\"apple\", \"banana\", \"cherry\"}\n",
    "x, y, z = fruits\n",
    "print(x)\n",
    "print(y)\n",
    "print(z)\n",
    "\n",
    "print(\"\\n\")\n",
    "fruits = (\"apple\", \"banana\", \"cherry\")\n",
    "x, y, z = fruits\n",
    "print(x)\n",
    "print(y)\n",
    "print(z)"
   ]
  },
  {
   "cell_type": "code",
   "execution_count": 14,
   "id": "09e057f7",
   "metadata": {},
   "outputs": [
    {
     "name": "stdout",
     "output_type": "stream",
     "text": [
      "Python is fantastic\n",
      "Python is awesome\n"
     ]
    }
   ],
   "source": [
    "#Global Variables & local Variables:\n",
    "\n",
    "x = \"awesome\" #Global Variables\n",
    "\n",
    "def myfunc():\n",
    "  x = \"fantastic\" #local Variables\n",
    "  print(\"Python is \" + x)\n",
    "\n",
    "myfunc()\n",
    "\n",
    "print(\"Python is \" + x)"
   ]
  },
  {
   "cell_type": "code",
   "execution_count": 2,
   "id": "141e669c",
   "metadata": {},
   "outputs": [
    {
     "name": "stdout",
     "output_type": "stream",
     "text": [
      "id(2) = 140723555084112\n",
      "id(a) = 140723555084112\n",
      "id(b) = 140723555084112\n"
     ]
    }
   ],
   "source": [
    "#Memory management for python variable:\n",
    "\n",
    "a = 2\n",
    "b=2\n",
    "print('id(2) =', id(2))\n",
    "print('id(a) =', id(a))\n",
    "print('id(b) =', id(b))\n",
    "\n",
    "#Here, both refer to the same object 2,so they have the same id().\n"
   ]
  },
  {
   "cell_type": "code",
   "execution_count": 4,
   "id": "16476a83",
   "metadata": {},
   "outputs": [
    {
     "name": "stdout",
     "output_type": "stream",
     "text": [
      "It's alright.\n",
      "We are the so-called \"Vikings\" from the north.\n",
      "This will insert one \\ (backslash).\n",
      "Hello\n",
      "World!\n",
      "c:\\docs\n",
      "ahid\n",
      "c:\\docs\\nahid\n",
      "Hello\tWorld!\n",
      "Hello \bWorld!\n",
      "Hello\n",
      "Hello\n",
      "🥰\n",
      "😋\n"
     ]
    }
   ],
   "source": [
    "#Escape Sequence:\n",
    "\n",
    "txt = 'It\\'s alright.'  #Single Quote\n",
    "print(txt) \n",
    "\n",
    "txt = \"We are the so-called \\\"Vikings\\\" from the north.\" #double Quote\n",
    "print(txt)\n",
    "\n",
    "txt = \"This will insert one \\\\ (backslash).\" #Backslash\n",
    "print(txt) \n",
    "\n",
    "txt = \"Hello\\nWorld!\"  #New Line\n",
    "print(txt) \n",
    "\n",
    "#create a new line\n",
    "txt=\"c:\\docs\\nahid\"\n",
    "print(txt)\n",
    "\n",
    "#without new line\n",
    "txt=r\"c:\\docs\\nahid\"\n",
    "print(txt)\n",
    "\n",
    "txt = \"Hello\\tWorld!\"  #Tab\n",
    "print(txt) \n",
    "\n",
    "\n",
    "txt = \"Hello \\bWorld!\" # Backspace \n",
    "print(txt) \n",
    "\n",
    "txt = \"\\110\\145\\154\\154\\157\" #Octal value\n",
    "print(txt) \n",
    "\n",
    "txt = \"\\x48\\x65\\x6c\\x6c\\x6f\" #Hex value\n",
    "print(txt) \n",
    "\n",
    "txt = \"\\U0001F970\"  #unicode for imoji\n",
    "print(txt)\n",
    "\n",
    "txt = \"\\U0001F60B\"  #unicode for imoji\n",
    "print(txt)\n"
   ]
  },
  {
   "cell_type": "markdown",
   "id": "fdbe5041",
   "metadata": {},
   "source": [
    "# Data Types:"
   ]
  },
  {
   "cell_type": "code",
   "execution_count": 21,
   "id": "6a2605dc",
   "metadata": {},
   "outputs": [
    {
     "name": "stdout",
     "output_type": "stream",
     "text": [
      "None\n",
      "<class 'NoneType'>\n",
      "polash\n",
      "<class 'str'>\n",
      "3\n",
      "<class 'int'>\n",
      "5.55533\n",
      "<class 'float'>\n",
      "5.45\n",
      "<class 'float'>\n",
      "7j\n",
      "<class 'complex'>\n",
      "True\n",
      "<class 'bool'>\n",
      "range(0, 5)\n",
      "<class 'range'>\n",
      "['Asad', 'Polash']\n",
      "<class 'list'>\n",
      "('Asad', 'Polash')\n",
      "<class 'tuple'>\n",
      "{'Asad', 'Polash'}\n",
      "<class 'set'>\n",
      "{'Name': 'Polash', 'Age': 25}\n",
      "<class 'dict'>\n"
     ]
    }
   ],
   "source": [
    "x=None\n",
    "print(x)\n",
    "print(type(x))\n",
    "\n",
    "a=\"polash\"\n",
    "print (a)\n",
    "print(type(a))\n",
    "\n",
    "b=3\n",
    "print(b)\n",
    "print(type(b))\n",
    "\n",
    "c=5.55533\n",
    "print(c)\n",
    "print(type(c))\n",
    "\n",
    "y=5.4545\n",
    "print(f\"{y:.2f}\")# after (.) 2 value\n",
    "print(type(y))\n",
    "\n",
    "d=7j\n",
    "print(d)\n",
    "print(type(d))\n",
    "\n",
    "e=True\n",
    "print(e)\n",
    "print(type(e))\n",
    "\n",
    "f=range(5)\n",
    "print(f)\n",
    "print(type(f))\n",
    "\n",
    "g=[\"Asad\",\"Polash\"]\n",
    "print(g)\n",
    "print(type(g))\n",
    "\n",
    "h=(\"Asad\",\"Polash\")\n",
    "print(h)\n",
    "print(type(h))\n",
    "\n",
    "i={\"Asad\",\"Polash\"}\n",
    "print(i)\n",
    "print(type(i))\n",
    "\n",
    "j={\"Name\":\"Polash\",\"Age\":25}\n",
    "print(j)\n",
    "print(type(j))\n",
    "\n"
   ]
  },
  {
   "cell_type": "code",
   "execution_count": 20,
   "id": "b922ae01",
   "metadata": {},
   "outputs": [
    {
     "name": "stdout",
     "output_type": "stream",
     "text": [
      "datatype of num_int: <class 'int'>\n",
      "datatype of num_flo: <class 'float'>\n",
      "Value of num_new: 124.23\n",
      "datatype of num_new: <class 'float'>\n",
      "\n",
      "\n",
      "Data type of num_int: <class 'int'>\n",
      "Data type of num_str before Type Casting: <class 'str'>\n",
      "Data type of num_str after Type Casting: <class 'int'>\n",
      "Sum of num_int and num_str: 579\n",
      "Data type of the sum: <class 'int'>\n"
     ]
    }
   ],
   "source": [
    "'''\n",
    "Type Conversion:The process of converting the value of one data type \n",
    "to another data type is called type conversion. \n",
    "Python has two types of type conversion.\n",
    "\n",
    "1.Implicit Type Conversion:Python automatically converts one data type to another data type.\n",
    "2.Explicit Type Conversion:This type of conversion is also called typecasting \n",
    "because the user changes the data type of the objects.\n",
    "'''\n",
    "#Implicit Type Conversion:\n",
    "num_int = 123\n",
    "num_flo = 1.23\n",
    "\n",
    "num_new = num_int + num_flo\n",
    "\n",
    "print(\"datatype of num_int:\",type(num_int))\n",
    "print(\"datatype of num_flo:\",type(num_flo))\n",
    "\n",
    "print(\"Value of num_new:\",num_new)\n",
    "print(\"datatype of num_new:\",type(num_new))\n",
    "\n",
    "\n",
    "print(\"\\n\")\n",
    "#Explicit Type Conversion:\n",
    "num_int = 123\n",
    "num_str = \"456\"\n",
    "\n",
    "print(\"Data type of num_int:\",type(num_int))\n",
    "print(\"Data type of num_str before Type Casting:\",type(num_str))\n",
    "\n",
    "num_str = int(num_str)\n",
    "print(\"Data type of num_str after Type Casting:\",type(num_str))\n",
    "\n",
    "num_sum = num_int + num_str\n",
    "\n",
    "print(\"Sum of num_int and num_str:\",num_sum)\n",
    "print(\"Data type of the sum:\",type(num_sum))"
   ]
  },
  {
   "cell_type": "markdown",
   "id": "0cd77772",
   "metadata": {},
   "source": [
    "# Output formatting"
   ]
  },
  {
   "cell_type": "code",
   "execution_count": 3,
   "id": "4202bed8",
   "metadata": {},
   "outputs": [
    {
     "name": "stdout",
     "output_type": "stream",
     "text": [
      "I am polash and i am 25 years old.\n"
     ]
    }
   ],
   "source": [
    "name=\"polash\"\n",
    "age=25\n",
    "print(f\"I am {name} and i am {age} years old.\")"
   ]
  },
  {
   "cell_type": "code",
   "execution_count": 1,
   "id": "c284a7cd",
   "metadata": {},
   "outputs": [
    {
     "name": "stdout",
     "output_type": "stream",
     "text": [
      "The value of a is 5\n",
      "1 2 3 4\n",
      "1*2*3*4\n",
      "1#2#3#4&"
     ]
    }
   ],
   "source": [
    "a = 5\n",
    "print('The value of a is', a)\n",
    "print(1, 2, 3, 4)\n",
    "print(1, 2, 3, 4, sep='*') \n",
    "print(1, 2, 3, 4, sep='#', end='&')"
   ]
  },
  {
   "cell_type": "markdown",
   "id": "14d2611a",
   "metadata": {},
   "source": [
    "# User Input"
   ]
  },
  {
   "cell_type": "code",
   "execution_count": 16,
   "id": "3e22d1fd",
   "metadata": {},
   "outputs": [
    {
     "name": "stdout",
     "output_type": "stream",
     "text": [
      "Enter number :5\n",
      "5\n",
      "Enter name : polash\n",
      "polash\n",
      "type of number <class 'str'>\n",
      "type of name <class 'str'>\n",
      "What is your name:polash\n",
      "Write your birth year:1996\n",
      "Hi polash you are 25\n",
      "\n",
      "\n"
     ]
    }
   ],
   "source": [
    "\n",
    "num = input (\"Enter number :\")\n",
    "print(num)\n",
    "name1 = input(\"Enter name : \")\n",
    "print(name1)\n",
    "print (\"type of number\", type(num))\n",
    "print (\"type of name\", type(name1))\n",
    "# user input always string type. we can change it type by type casting.\n",
    "\n",
    "\n",
    "name=input(\"What is your name:\")\n",
    "birth_year=input(\"Write your birth year:\")\n",
    "age=2021-int(birth_year)\n",
    "print(f\"Hi {name} you are {age}\")\n",
    "\n",
    "'''\n",
    "Python stops executing when it comes to the input() function,\n",
    "and continues when the user has given some input.\n",
    "'''\n",
    "print(\"\\n\")"
   ]
  },
  {
   "cell_type": "markdown",
   "id": "c72bc329",
   "metadata": {},
   "source": [
    "# Operators:\n",
    "**Arithmetic operators**:"
   ]
  },
  {
   "cell_type": "code",
   "execution_count": 5,
   "id": "a53f54fa",
   "metadata": {},
   "outputs": [
    {
     "name": "stdout",
     "output_type": "stream",
     "text": [
      "x + y = 10\n",
      "x - y = 2\n",
      "x * y = 24\n",
      "x / y = 1.5\n",
      "x // y = 1\n",
      "x % y = 2\n",
      "x ** y = 1296\n"
     ]
    }
   ],
   "source": [
    "x = 6\n",
    "y = 4\n",
    "\n",
    "\n",
    "print('x + y =',x+y)   #Addition\n",
    "\n",
    "print('x - y =',x-y)   #Subtraction\n",
    "\n",
    "print('x * y =',x*y)   #Multiplication\n",
    "\n",
    "print('x / y =',x/y)   #Division\n",
    "\n",
    "print('x // y =',x//y) #Floor division\n",
    "\n",
    "print('x % y =',x%y)   #Modulus\n",
    "\n",
    "print('x ** y =',x**y) #Exponentiation"
   ]
  },
  {
   "cell_type": "markdown",
   "id": "0fc233ad",
   "metadata": {},
   "source": [
    "**Comparison operators**/**Relation operator**:"
   ]
  },
  {
   "cell_type": "code",
   "execution_count": 7,
   "id": "a3baa1b5",
   "metadata": {},
   "outputs": [
    {
     "name": "stdout",
     "output_type": "stream",
     "text": [
      "x > y is False\n",
      "x < y is True\n",
      "x == y is False\n",
      "x != y is True\n",
      "x >= y is False\n",
      "x <= y is True\n"
     ]
    }
   ],
   "source": [
    "x = 10\n",
    "y = 12\n",
    "\n",
    "\n",
    "print('x > y is',x>y)   #Greater than\n",
    "\n",
    "\n",
    "print('x < y is',x<y)   #Less than\n",
    "\n",
    "\n",
    "print('x == y is',x==y) #Equal to\n",
    "\n",
    "\n",
    "print('x != y is',x!=y) #Not equal to\n",
    "\n",
    "\n",
    "print('x >= y is',x>=y) #Greater than or equal to\n",
    "\n",
    "\n",
    "print('x <= y is',x<=y) #Less than or equal to"
   ]
  },
  {
   "cell_type": "markdown",
   "id": "c6acc1fd",
   "metadata": {},
   "source": [
    "***Bitwise operators***:"
   ]
  },
  {
   "cell_type": "code",
   "execution_count": 4,
   "id": "56c1af9e",
   "metadata": {},
   "outputs": [
    {
     "name": "stdout",
     "output_type": "stream",
     "text": [
      "a & b = 0\n",
      "a | b = 14\n",
      "~a = -11\n",
      "a ^ b = 14\n",
      "a >> 1 = 5\n",
      "a << 1 = 20\n"
     ]
    }
   ],
   "source": [
    "'''In Python, bitwise operators are used to performing bitwise calculations on integers.\n",
    "The integers are first converted into binary and then operations are performed on bit by bit,\n",
    "hence the name bitwise operators. Then the result is returned in decimal format.\n",
    "\n",
    "Note: Python bitwise operators work only on integers.\n",
    "OPERATOR\tDESCRIPTION\t    SYNTAX\n",
    "&\t:Bitwise AND            x & y\n",
    "|\t:Bitwise OR             x | y\n",
    "~\t:Bitwise NOT            ~x\n",
    "^\t:Bitwise XOR            x ^ y\n",
    ">>\t:Bitwise right shift    x>>\n",
    "<<\t:Bitwise left shift\t    x<<\n",
    "'''\n",
    "#Bitwise AND operator: Returns 1 if both the bits are 1 else 0.\n",
    "'''\n",
    "a = 10 = 1010 (Binary)\n",
    "b = 4 =  0100 (Binary)\n",
    "\n",
    "a & b = 1010\n",
    "         &\n",
    "        0100\n",
    "      = 0000\n",
    "      = 0 (Decimal)\n",
    "'''\n",
    "#Bitwise or operator: Returns 1 if either of the bit is 1 else 0.\n",
    "'''\n",
    "a = 10 = 1010 (Binary)\n",
    "b = 4 =  0100 (Binary)\n",
    "\n",
    "a | b = 1010\n",
    "         |\n",
    "        0100\n",
    "      = 1110\n",
    "      = 14 (Decimal)\n",
    "      '''\n",
    "#Bitwise not operator: Returns one’s complement of the number.\n",
    "'''\n",
    "a = 10 = 1010 (Binary)\n",
    "\n",
    "~a = ~1010\n",
    "   = -(1010 + 1)\n",
    "   = -(1011)\n",
    "   = -11 (Decimal)\n",
    "'''\n",
    "#Bitwise xor operator: Returns 1 if one of the bits is 1 and the other is 0 else returns false.\n",
    "'''\n",
    "a = 10 = 1010 (Binary)\n",
    "b = 4 =  0100 (Binary)\n",
    "\n",
    "a ^ b = 1010            *1 true 1 false=1 else=0\n",
    "         ^\n",
    "        0100\n",
    "      = 1110\n",
    "      = 14 (Decimal)\n",
    "'''\n",
    "#Bitwise right shift: Shifts the bits of the number to the right and fills 0 on voids left\n",
    "'''\n",
    "a = 10 = 0000 1010 (Binary)\n",
    "a >> 1 = 0000 0101 = 5\n",
    "'''\n",
    "#Bitwise left shift: Shifts the bits of the number to the left and fills 0 on voids right as \n",
    "#                    a result\n",
    "'''\n",
    "a = 10 = 0000 1010 (Binary)\n",
    "a << 1 = 0001 0100 = 20\n",
    " \n",
    "'''\n",
    "\n",
    "# bitwise operators\n",
    "\n",
    "a = 10\n",
    "b = 4\n",
    "\n",
    "\n",
    "print(\"a & b =\", a & b)\n",
    "\n",
    "print(\"a | b =\", a | b)\n",
    "\n",
    "print(\"~a =\", ~a)\n",
    "\n",
    "print(\"a ^ b =\", a ^ b)\n",
    "\n",
    "print(\"a >> 1 =\", a >> 1)\n",
    "\n",
    "print(\"a << 1 =\", a << 1)\n",
    "\n"
   ]
  },
  {
   "cell_type": "markdown",
   "id": "83303f31",
   "metadata": {},
   "source": [
    "***Assignment operators***:"
   ]
  },
  {
   "cell_type": "code",
   "execution_count": 5,
   "id": "5cfa5046",
   "metadata": {},
   "outputs": [
    {
     "name": "stdout",
     "output_type": "stream",
     "text": [
      "5\n",
      "8\n",
      "2\n",
      "15\n",
      "1.6666666666666667\n",
      "2\n",
      "1\n",
      "125\n",
      "1\n",
      "7\n",
      "6\n",
      "0\n",
      "40\n"
     ]
    }
   ],
   "source": [
    "x = 5\n",
    "print(x)\n",
    "\n",
    "\n",
    "x = 5\n",
    "x += 3\n",
    "print(x)\n",
    "\n",
    "x = 5\n",
    "x -= 3\n",
    "print(x)\n",
    "\n",
    "\n",
    "x = 5\n",
    "x *= 3\n",
    "print(x)\n",
    "\n",
    "\n",
    "x = 5\n",
    "x /= 3\n",
    "print(x)\n",
    "\n",
    "\n",
    "x = 5\n",
    "x%=3\n",
    "print(x)\n",
    "\n",
    "\n",
    "x = 5\n",
    "x//=3\n",
    "print(x)\n",
    "\n",
    "\n",
    "x = 5\n",
    "x **= 3\n",
    "print(x)\n",
    "\n",
    "\n",
    "x = 5\n",
    "x &= 3\n",
    "print(x)\n",
    "\n",
    "\n",
    "x = 5\n",
    "x |= 3\n",
    "print(x)\n",
    "\n",
    "\n",
    "x = 5\n",
    "x ^= 3\n",
    "print(x)\n",
    "\n",
    "\n",
    "x = 5\n",
    "x >>= 3\n",
    "print(x)\n",
    "\n",
    "\n",
    "x = 5\n",
    "x <<= 3\n",
    "print(x)\n",
    "\n",
    "\n",
    "\n"
   ]
  },
  {
   "cell_type": "markdown",
   "id": "d6b58767",
   "metadata": {},
   "source": [
    "***Logical Operators***:"
   ]
  },
  {
   "cell_type": "code",
   "execution_count": 1,
   "id": "7be106bf",
   "metadata": {},
   "outputs": [
    {
     "name": "stdout",
     "output_type": "stream",
     "text": [
      "x and y : False\n",
      "x or y : True\n",
      "not x : False\n"
     ]
    }
   ],
   "source": [
    "x = True\n",
    "y = False\n",
    "\n",
    "print('x and y :',x and y) # and:True if both the operands are true\n",
    "\n",
    "print('x or y :',x or y)   #or:True if either of the operands is true\n",
    "\n",
    "print('not x :',not x)     #not:True if operand is false "
   ]
  },
  {
   "cell_type": "markdown",
   "id": "6800730c",
   "metadata": {},
   "source": [
    "**Membership operators**:"
   ]
  },
  {
   "cell_type": "code",
   "execution_count": 3,
   "id": "cc537d49",
   "metadata": {},
   "outputs": [
    {
     "name": "stdout",
     "output_type": "stream",
     "text": [
      "True\n",
      "True\n",
      "True\n",
      "False\n",
      "\n",
      "\n"
     ]
    }
   ],
   "source": [
    "#in:True if value/variable is found in the sequence.\n",
    "#not in:True if value/variable is not found in the sequence.\n",
    "x = 'Hello world'\n",
    "y = {1:'a',2:'b'}\n",
    "\n",
    "print('H' in x)\n",
    "\n",
    "print('hello' not in x)\n",
    "\n",
    "print(1 in y)\n",
    "\n",
    "print('a' in y)\n",
    "\n",
    "'''Here, 'H' is in x but 'hello' is not present in x (remember, Python is case sensitive).\n",
    "Similarly, 1 is key and 'a' is the value in dictionary y. Hence, 'a' in y returns False'''\n",
    "print(\"\\n\")"
   ]
  },
  {
   "cell_type": "markdown",
   "id": "286e5288",
   "metadata": {},
   "source": [
    "**Identity operators**:"
   ]
  },
  {
   "cell_type": "code",
   "execution_count": 6,
   "id": "7a1b95fe",
   "metadata": {},
   "outputs": [
    {
     "name": "stdout",
     "output_type": "stream",
     "text": [
      "False\n",
      "True\n",
      "False\n",
      "\n",
      "\n"
     ]
    }
   ],
   "source": [
    "#Identity operators works under the memory location.\n",
    "\n",
    "#is:True if the operands are identical.\n",
    "#is not:True if the operands are not identical\n",
    "x1 = 5\n",
    "y1 = 5\n",
    "x2 = 'Hello'\n",
    "y2 = 'Hello'\n",
    "x3 = [1,2,3]\n",
    "y3 = [1,2,3]\n",
    "\n",
    "\n",
    "print(x1 is not y1)\n",
    "\n",
    "print(x2 is y2)\n",
    "\n",
    "print(x3 is y3)\n",
    "\n",
    "'''Here, we see that x1 and y1 are integers of the same values, \n",
    "so they are equal as well as identical. Same is the case with x2 and y2 (strings).\n",
    "\n",
    "But x3 and y3 are lists. They are equal but not identical.\n",
    "It is because the interpreter locates them separately in memory although they are equal.'''\n",
    "print(\"\\n\")"
   ]
  },
  {
   "cell_type": "markdown",
   "id": "21cc51d2",
   "metadata": {},
   "source": [
    "***Ternary Operator***:"
   ]
  },
  {
   "cell_type": "code",
   "execution_count": 3,
   "id": "948ed9d2",
   "metadata": {},
   "outputs": [
    {
     "name": "stdout",
     "output_type": "stream",
     "text": [
      "Enter number to check :55\n",
      "55is an odd number\n"
     ]
    }
   ],
   "source": [
    "#Ternary Operator:it's must be one line condition.\n",
    "num=int(input(\"Enter number to check :\"))\n",
    "msg=str(num)+\" is an even number\" if num%2==0 else str(num)+\"is an odd number\"\n",
    "print(msg)"
   ]
  },
  {
   "cell_type": "markdown",
   "id": "7a244cf1",
   "metadata": {},
   "source": [
    "***math funtion***:"
   ]
  },
  {
   "cell_type": "code",
   "execution_count": 20,
   "id": "7b35d771",
   "metadata": {},
   "outputs": [],
   "source": [
    "from math import *"
   ]
  },
  {
   "cell_type": "code",
   "execution_count": 15,
   "id": "5c76eed8",
   "metadata": {},
   "outputs": [
    {
     "data": {
      "text/plain": [
       "24"
      ]
     },
     "execution_count": 15,
     "metadata": {},
     "output_type": "execute_result"
    }
   ],
   "source": [
    "math.ceil(23.5)"
   ]
  },
  {
   "cell_type": "code",
   "execution_count": 12,
   "id": "8a8ced64",
   "metadata": {},
   "outputs": [
    {
     "data": {
      "text/plain": [
       "23"
      ]
     },
     "execution_count": 12,
     "metadata": {},
     "output_type": "execute_result"
    }
   ],
   "source": [
    "math.floor(23.5)"
   ]
  },
  {
   "cell_type": "code",
   "execution_count": 13,
   "id": "0932552f",
   "metadata": {},
   "outputs": [
    {
     "data": {
      "text/plain": [
       "5.0"
      ]
     },
     "execution_count": 13,
     "metadata": {},
     "output_type": "execute_result"
    }
   ],
   "source": [
    "math.sqrt(25)"
   ]
  },
  {
   "cell_type": "code",
   "execution_count": 16,
   "id": "82804448",
   "metadata": {},
   "outputs": [
    {
     "data": {
      "text/plain": [
       "8.0"
      ]
     },
     "execution_count": 16,
     "metadata": {},
     "output_type": "execute_result"
    }
   ],
   "source": [
    "math.pow(2,3)"
   ]
  },
  {
   "cell_type": "code",
   "execution_count": 22,
   "id": "b5a1f807",
   "metadata": {},
   "outputs": [
    {
     "data": {
      "text/plain": [
       "70"
      ]
     },
     "execution_count": 22,
     "metadata": {},
     "output_type": "execute_result"
    }
   ],
   "source": [
    "max(55,60,70)"
   ]
  },
  {
   "cell_type": "code",
   "execution_count": 23,
   "id": "908d7946",
   "metadata": {},
   "outputs": [
    {
     "data": {
      "text/plain": [
       "40"
      ]
     },
     "execution_count": 23,
     "metadata": {},
     "output_type": "execute_result"
    }
   ],
   "source": [
    "min(55,60,40)"
   ]
  },
  {
   "cell_type": "code",
   "execution_count": 35,
   "id": "0d81af6f",
   "metadata": {},
   "outputs": [
    {
     "data": {
      "text/plain": [
       "4"
      ]
     },
     "execution_count": 35,
     "metadata": {},
     "output_type": "execute_result"
    }
   ],
   "source": [
    "abs(-4)"
   ]
  },
  {
   "cell_type": "code",
   "execution_count": 28,
   "id": "c20026d1",
   "metadata": {},
   "outputs": [
    {
     "data": {
      "text/plain": [
       "4"
      ]
     },
     "execution_count": 28,
     "metadata": {},
     "output_type": "execute_result"
    }
   ],
   "source": [
    "round(4.44)"
   ]
  },
  {
   "cell_type": "code",
   "execution_count": 29,
   "id": "24a9b09e",
   "metadata": {},
   "outputs": [
    {
     "data": {
      "text/plain": [
       "5"
      ]
     },
     "execution_count": 29,
     "metadata": {},
     "output_type": "execute_result"
    }
   ],
   "source": [
    "round(4.88)"
   ]
  },
  {
   "cell_type": "code",
   "execution_count": 30,
   "id": "3ed1f350",
   "metadata": {},
   "outputs": [
    {
     "data": {
      "text/plain": [
       "5"
      ]
     },
     "execution_count": 30,
     "metadata": {},
     "output_type": "execute_result"
    }
   ],
   "source": [
    "round(4.55)"
   ]
  },
  {
   "cell_type": "code",
   "execution_count": 31,
   "id": "a1c8e160",
   "metadata": {},
   "outputs": [
    {
     "data": {
      "text/plain": [
       "4.4"
      ]
     },
     "execution_count": 31,
     "metadata": {},
     "output_type": "execute_result"
    }
   ],
   "source": [
    "round(4.4444,1)"
   ]
  },
  {
   "cell_type": "code",
   "execution_count": 32,
   "id": "87bfdddd",
   "metadata": {},
   "outputs": [
    {
     "data": {
      "text/plain": [
       "4.44"
      ]
     },
     "execution_count": 32,
     "metadata": {},
     "output_type": "execute_result"
    }
   ],
   "source": [
    "round(4.4444,2)"
   ]
  },
  {
   "cell_type": "code",
   "execution_count": 33,
   "id": "45754cc0",
   "metadata": {},
   "outputs": [
    {
     "data": {
      "text/plain": [
       "4.444"
      ]
     },
     "execution_count": 33,
     "metadata": {},
     "output_type": "execute_result"
    }
   ],
   "source": [
    "round(4.4444,3)"
   ]
  },
  {
   "cell_type": "code",
   "execution_count": null,
   "id": "85aa0874",
   "metadata": {},
   "outputs": [],
   "source": []
  },
  {
   "cell_type": "markdown",
   "id": "54378bef",
   "metadata": {},
   "source": [
    "# If ... Else:"
   ]
  },
  {
   "cell_type": "code",
   "execution_count": 4,
   "id": "65e55838",
   "metadata": {},
   "outputs": [
    {
     "name": "stdout",
     "output_type": "stream",
     "text": [
      "n is an even number\n"
     ]
    }
   ],
   "source": [
    "#Simple if:\n",
    "n = 10\n",
    "if n % 2 == 0:\n",
    "   print(\"n is an even number\")"
   ]
  },
  {
   "cell_type": "code",
   "execution_count": 2,
   "id": "997303fc",
   "metadata": {},
   "outputs": [
    {
     "name": "stdout",
     "output_type": "stream",
     "text": [
      "n is odd\n"
     ]
    }
   ],
   "source": [
    "#if-else:\n",
    "n = 5\n",
    "if n % 2 == 0:\n",
    "   print(\"n is even\")\n",
    "else:\n",
    "   print(\"n is odd\")"
   ]
  },
  {
   "cell_type": "code",
   "execution_count": 5,
   "id": "3c1c2dd9",
   "metadata": {},
   "outputs": [
    {
     "name": "stdout",
     "output_type": "stream",
     "text": [
      "c is big\n"
     ]
    }
   ],
   "source": [
    "#nested if:\n",
    "a = 5\n",
    "b = 10\n",
    "c = 15\n",
    "if a > b:\n",
    "   if a > c:\n",
    "      print(\"a value is big\")\n",
    "   else:\n",
    "       print(\"c value is big\")\n",
    "elif b > c:\n",
    "    print(\"b value is big\")\n",
    "else:\n",
    "     print(\"c is big\")"
   ]
  },
  {
   "cell_type": "code",
   "execution_count": 6,
   "id": "13040aa8",
   "metadata": {},
   "outputs": [
    {
     "name": "stdout",
     "output_type": "stream",
     "text": [
      "x is greater than y\n"
     ]
    }
   ],
   "source": [
    "#if-elif-else:\n",
    "x = 15\n",
    "y = 12\n",
    "if x == y:\n",
    "   print(\"Both are Equal\")\n",
    "elif x > y:\n",
    "    print(\"x is greater than y\")\n",
    "else:\n",
    "    print(\"x is smaller than y\")"
   ]
  },
  {
   "cell_type": "markdown",
   "id": "1800ff15",
   "metadata": {},
   "source": [
    "# Loops:"
   ]
  },
  {
   "cell_type": "code",
   "execution_count": 10,
   "id": "5e2576d9",
   "metadata": {},
   "outputs": [
    {
     "name": "stdout",
     "output_type": "stream",
     "text": [
      "b\n",
      "a\n",
      "n\n",
      "a\n",
      "n\n",
      "a\n"
     ]
    }
   ],
   "source": [
    "# for loop:\n",
    "for x in \"banana\":\n",
    "  print(x)"
   ]
  },
  {
   "cell_type": "code",
   "execution_count": 11,
   "id": "ac78107f",
   "metadata": {},
   "outputs": [
    {
     "name": "stdout",
     "output_type": "stream",
     "text": [
      "apple\n"
     ]
    }
   ],
   "source": [
    "#Break statement with for loop:\n",
    "fruits = [\"apple\", \"banana\", \"cherry\"]\n",
    "for x in fruits:\n",
    "  if x == \"banana\":\n",
    "    break\n",
    "  print(x)"
   ]
  },
  {
   "cell_type": "code",
   "execution_count": 12,
   "id": "518a7a31",
   "metadata": {},
   "outputs": [
    {
     "name": "stdout",
     "output_type": "stream",
     "text": [
      "apple\n",
      "cherry\n"
     ]
    }
   ],
   "source": [
    "#continue statement with for loop:\n",
    "fruits = [\"apple\", \"banana\", \"cherry\"]\n",
    "for x in fruits:\n",
    "  if x == \"banana\":\n",
    "    continue\n",
    "  print(x)"
   ]
  },
  {
   "cell_type": "code",
   "execution_count": 13,
   "id": "1d181810",
   "metadata": {},
   "outputs": [
    {
     "name": "stdout",
     "output_type": "stream",
     "text": [
      "1\n",
      "2\n",
      "3\n",
      "4\n",
      "5\n"
     ]
    }
   ],
   "source": [
    "#while loop:\n",
    "i = 1\n",
    "while i < 6:\n",
    "  print(i)\n",
    "  i += 1"
   ]
  },
  {
   "cell_type": "code",
   "execution_count": 14,
   "id": "e85a1e9c",
   "metadata": {},
   "outputs": [
    {
     "name": "stdout",
     "output_type": "stream",
     "text": [
      "1\n",
      "2\n",
      "3\n"
     ]
    }
   ],
   "source": [
    "#Break statement with while loop:\n",
    "i = 1\n",
    "while i < 6:\n",
    "  print(i)\n",
    "  if i == 3:\n",
    "    break\n",
    "  i += 1"
   ]
  },
  {
   "cell_type": "code",
   "execution_count": 15,
   "id": "afdaf9fd",
   "metadata": {},
   "outputs": [
    {
     "name": "stdout",
     "output_type": "stream",
     "text": [
      "1\n",
      "2\n",
      "4\n",
      "5\n",
      "6\n"
     ]
    }
   ],
   "source": [
    "#continue statement with while loop:\n",
    "i = 0\n",
    "while i < 6:\n",
    "  i += 1\n",
    "  if i == 3:\n",
    "    continue\n",
    "  print(i)"
   ]
  },
  {
   "cell_type": "markdown",
   "id": "503af8b0",
   "metadata": {},
   "source": [
    "# Strings:"
   ]
  },
  {
   "cell_type": "code",
   "execution_count": 24,
   "id": "d352a53b",
   "metadata": {},
   "outputs": [
    {
     "name": "stdout",
     "output_type": "stream",
     "text": [
      "polash\n",
      "Computer Science and Engineering\n"
     ]
    }
   ],
   "source": [
    "#string:sequence of character\n",
    "#single line string:\n",
    "name='polash'\n",
    "print(name)\n",
    "subject=\"Computer Science and Engineering\"\n",
    "print(subject)\n"
   ]
  },
  {
   "cell_type": "code",
   "execution_count": 29,
   "id": "4451aed0",
   "metadata": {},
   "outputs": [
    {
     "name": "stdout",
     "output_type": "stream",
     "text": [
      "This is\n",
      "multiline string \n",
      "\n",
      "Hi this is polash.\n",
      "I study at Dhaka International University of Computer Science Engineering.\n",
      "I am currently 25 years old\n"
     ]
    }
   ],
   "source": [
    "#multiline string:\n",
    "s='''This is\n",
    "multiline string'''\n",
    "print(s,\"\\n\")\n",
    "\n",
    "introduce=\"\"\"Hi this is polash.\n",
    "I study at Dhaka International University of Computer Science Engineering.\n",
    "I am currently 25 years old\"\"\"\n",
    "print(introduce)"
   ]
  },
  {
   "cell_type": "code",
   "execution_count": 31,
   "id": "f18572ac",
   "metadata": {},
   "outputs": [
    {
     "name": "stdout",
     "output_type": "stream",
     "text": [
      "6\n"
     ]
    }
   ],
   "source": [
    "#String Length:\n",
    "name = \"polash\"\n",
    "print(len(name))"
   ]
  },
  {
   "cell_type": "code",
   "execution_count": 35,
   "id": "4487bfab",
   "metadata": {},
   "outputs": [
    {
     "name": "stdout",
     "output_type": "stream",
     "text": [
      "Yes, 'asad' is present.\n",
      "No, 'Raju' is not present.\n"
     ]
    }
   ],
   "source": [
    "#Check String:\n",
    "name_list = \"polash,asad,prince\"\n",
    "if \"asad\" in name_list:\n",
    "  print(\"Yes, 'asad' is present.\")\n",
    "\n",
    "name_list = \"polash,asad,prince\"\n",
    "if \"Raju\" not in name_list:\n",
    "  print(\"No, 'Raju' is not present.\")"
   ]
  },
  {
   "cell_type": "code",
   "execution_count": 33,
   "id": "c1c13597",
   "metadata": {},
   "outputs": [
    {
     "name": "stdout",
     "output_type": "stream",
     "text": [
      "p\n",
      "o\n",
      "l\n",
      "a\n",
      "s\n",
      "h\n"
     ]
    }
   ],
   "source": [
    "#Looping Through a String:\n",
    "for x in \"polash\":\n",
    "  print(x)"
   ]
  },
  {
   "cell_type": "markdown",
   "id": "89b19b19",
   "metadata": {},
   "source": [
    "***Slicing Strings:***:"
   ]
  },
  {
   "cell_type": "code",
   "execution_count": 37,
   "id": "0f1e4b63",
   "metadata": {},
   "outputs": [
    {
     "name": "stdout",
     "output_type": "stream",
     "text": [
      "s\n"
     ]
    }
   ],
   "source": [
    "a = \"Polash\"\n",
    "print(a[4]) #indexing string"
   ]
  },
  {
   "cell_type": "code",
   "execution_count": 42,
   "id": "ab992a6e",
   "metadata": {},
   "outputs": [
    {
     "name": "stdout",
     "output_type": "stream",
     "text": [
      "h\n"
     ]
    }
   ],
   "source": [
    "a = \"Polash\"\n",
    "print(a[-1]) #indexing string"
   ]
  },
  {
   "cell_type": "code",
   "execution_count": 43,
   "id": "5630e767",
   "metadata": {},
   "outputs": [
    {
     "name": "stdout",
     "output_type": "stream",
     "text": [
      "Pol\n"
     ]
    }
   ],
   "source": [
    "b = \"Polash\"\n",
    "print(b[:3])"
   ]
  },
  {
   "cell_type": "code",
   "execution_count": 44,
   "id": "28396eac",
   "metadata": {},
   "outputs": [
    {
     "name": "stdout",
     "output_type": "stream",
     "text": [
      "lash\n"
     ]
    }
   ],
   "source": [
    "b = \"Polash\"\n",
    "print(b[2:])"
   ]
  },
  {
   "cell_type": "code",
   "execution_count": 45,
   "id": "38d20227",
   "metadata": {},
   "outputs": [
    {
     "name": "stdout",
     "output_type": "stream",
     "text": [
      "las\n"
     ]
    }
   ],
   "source": [
    "b = \"Polash\"\n",
    "print(b[2:5])"
   ]
  },
  {
   "cell_type": "code",
   "execution_count": 46,
   "id": "e5c26b1e",
   "metadata": {},
   "outputs": [
    {
     "name": "stdout",
     "output_type": "stream",
     "text": [
      "Polas\n"
     ]
    }
   ],
   "source": [
    "b = \"Polash\"\n",
    "print(b[:-1])"
   ]
  },
  {
   "cell_type": "code",
   "execution_count": 49,
   "id": "6e901a23",
   "metadata": {},
   "outputs": [
    {
     "name": "stdout",
     "output_type": "stream",
     "text": [
      "lash\n"
     ]
    }
   ],
   "source": [
    "b = \"Polash\"\n",
    "print(b[-4:])"
   ]
  },
  {
   "cell_type": "code",
   "execution_count": 50,
   "id": "2ee1898e",
   "metadata": {},
   "outputs": [
    {
     "name": "stdout",
     "output_type": "stream",
     "text": [
      "ola\n"
     ]
    }
   ],
   "source": [
    "b = \"Polash\"\n",
    "print(b[-5:-2])"
   ]
  },
  {
   "cell_type": "code",
   "execution_count": 51,
   "id": "9f0ee1ac",
   "metadata": {},
   "outputs": [
    {
     "name": "stdout",
     "output_type": "stream",
     "text": [
      "Polash\n"
     ]
    }
   ],
   "source": [
    "b = \"Polash\"\n",
    "print(b[:])"
   ]
  },
  {
   "cell_type": "code",
   "execution_count": 52,
   "id": "44dbec5e",
   "metadata": {},
   "outputs": [
    {
     "name": "stdout",
     "output_type": "stream",
     "text": [
      "Pls\n"
     ]
    }
   ],
   "source": [
    "b = \"Polash\"\n",
    "print(b[::2])"
   ]
  },
  {
   "cell_type": "code",
   "execution_count": 53,
   "id": "5f14c17f",
   "metadata": {},
   "outputs": [
    {
     "name": "stdout",
     "output_type": "stream",
     "text": [
      "Pa\n"
     ]
    }
   ],
   "source": [
    "b = \"Polash\"\n",
    "print(b[::3])"
   ]
  },
  {
   "cell_type": "code",
   "execution_count": 37,
   "id": "fa1bdd67",
   "metadata": {},
   "outputs": [
    {
     "name": "stdout",
     "output_type": "stream",
     "text": [
      "Pa\n"
     ]
    }
   ],
   "source": [
    "b = \"Polash\"\n",
    "print(b[:4:3])"
   ]
  },
  {
   "cell_type": "code",
   "execution_count": 38,
   "id": "81931448",
   "metadata": {},
   "outputs": [
    {
     "name": "stdout",
     "output_type": "stream",
     "text": [
      "lh\n"
     ]
    }
   ],
   "source": [
    "b = \"Polash\"\n",
    "print(b[2::3])"
   ]
  },
  {
   "cell_type": "code",
   "execution_count": 40,
   "id": "4016084d",
   "metadata": {},
   "outputs": [
    {
     "name": "stdout",
     "output_type": "stream",
     "text": [
      "o\n"
     ]
    }
   ],
   "source": [
    "b = \"Polash\"\n",
    "print(b[1:4:3])"
   ]
  },
  {
   "cell_type": "code",
   "execution_count": 10,
   "id": "b29e392b",
   "metadata": {},
   "outputs": [
    {
     "name": "stdout",
     "output_type": "stream",
     "text": [
      "86\n"
     ]
    }
   ],
   "source": [
    "my_string = \"0123456789\"\n",
    "print(my_string[-2: -6: -2])\n"
   ]
  },
  {
   "cell_type": "markdown",
   "id": "59dd3d7c",
   "metadata": {},
   "source": [
    "***String Methods***:"
   ]
  },
  {
   "cell_type": "code",
   "execution_count": 1,
   "id": "1a058dc4",
   "metadata": {},
   "outputs": [
    {
     "name": "stdout",
     "output_type": "stream",
     "text": [
      "This is polash\n"
     ]
    }
   ],
   "source": [
    "#capitalize:\n",
    "a=\"THIS IS POLASH\"\n",
    "print(a.capitalize())"
   ]
  },
  {
   "cell_type": "code",
   "execution_count": 59,
   "id": "92ce2779",
   "metadata": {},
   "outputs": [
    {
     "name": "stdout",
     "output_type": "stream",
     "text": [
      "POLASH MIA\n"
     ]
    }
   ],
   "source": [
    "#Upper Case:\n",
    "a = \"Polash mia\"\n",
    "print(a.upper())"
   ]
  },
  {
   "cell_type": "code",
   "execution_count": 60,
   "id": "88ad34da",
   "metadata": {},
   "outputs": [
    {
     "name": "stdout",
     "output_type": "stream",
     "text": [
      "polash mia\n"
     ]
    }
   ],
   "source": [
    "#Lower Case:\n",
    "a = \"Polash mia\"\n",
    "print(a.lower())"
   ]
  },
  {
   "cell_type": "code",
   "execution_count": 61,
   "id": "26a3f786",
   "metadata": {},
   "outputs": [
    {
     "name": "stdout",
     "output_type": "stream",
     "text": [
      "Polash Mia\n"
     ]
    }
   ],
   "source": [
    "#Title:\n",
    "a = \"Polash mia\"  #Make the first letter in each word upper case:\n",
    "print(a.title())"
   ]
  },
  {
   "cell_type": "code",
   "execution_count": 64,
   "id": "df60dc5f",
   "metadata": {},
   "outputs": [
    {
     "name": "stdout",
     "output_type": "stream",
     "text": [
      "Polash mia\n"
     ]
    }
   ],
   "source": [
    "#Remove Whitespace:\n",
    "a = \"     Polash mia    \"  #removes any whitespace from the beginning or the end\n",
    "print(a.strip())"
   ]
  },
  {
   "cell_type": "code",
   "execution_count": 65,
   "id": "31e6281f",
   "metadata": {},
   "outputs": [
    {
     "name": "stdout",
     "output_type": "stream",
     "text": [
      "Polash eia\n"
     ]
    }
   ],
   "source": [
    "#Replace String:\n",
    "a = a = \"Polash mia\" \n",
    "print(a.replace(\"m\", \"e\"))"
   ]
  },
  {
   "cell_type": "code",
   "execution_count": 73,
   "id": "2d73330d",
   "metadata": {},
   "outputs": [
    {
     "name": "stdout",
     "output_type": "stream",
     "text": [
      "['Md', 'Polash', 'mia']\n",
      "['Md Pola', 'h mia']\n"
     ]
    }
   ],
   "source": [
    "#Split String:\n",
    "a = \"Md Polash mia\" \n",
    "print(a.split(\" \"))\n",
    "print(a.split(\"s\"))"
   ]
  },
  {
   "cell_type": "code",
   "execution_count": 74,
   "id": "fcba4d29",
   "metadata": {},
   "outputs": [
    {
     "name": "stdout",
     "output_type": "stream",
     "text": [
      "2\n"
     ]
    }
   ],
   "source": [
    "#String count:\n",
    "a = \"I love apples, apple are my favorite fruit\"\n",
    "x = a.count(\"apple\")\n",
    "print(x)"
   ]
  },
  {
   "cell_type": "code",
   "execution_count": 77,
   "id": "48425cdf",
   "metadata": {},
   "outputs": [
    {
     "name": "stdout",
     "output_type": "stream",
     "text": [
      "PolashMia\n",
      "Polash Mia\n"
     ]
    }
   ],
   "source": [
    "#String Concatenation:\n",
    "a = \"Polash\"\n",
    "b = \"Mia\"\n",
    "c = a + b\n",
    "print(c)\n",
    "\n",
    "a = \"Polash\"\n",
    "b = \"Mia\"\n",
    "c = a + \" \" + b\n",
    "print(c)"
   ]
  },
  {
   "cell_type": "code",
   "execution_count": 92,
   "id": "9fb1a040",
   "metadata": {},
   "outputs": [
    {
     "name": "stdout",
     "output_type": "stream",
     "text": [
      "Polash Polash Polash \n",
      "Polash Polash Polash \n",
      "Polash Polash Polash \n",
      "('Polash ', 'Mia', 'Polash ', 'Mia', 'Polash ', 'Mia')\n",
      "['Polash ', 'Polash ', 'Polash ']\n"
     ]
    }
   ],
   "source": [
    "#String multiplication:\n",
    "print(\"Polash \"*3)\n",
    "print(3*\"Polash \")\n",
    "print(3*(\"Polash \"))\n",
    "print(3*(\"Polash \",\"Mia\"))\n",
    "print(3*[\"Polash \"])"
   ]
  },
  {
   "cell_type": "markdown",
   "id": "61f34d96",
   "metadata": {},
   "source": [
    "# List"
   ]
  },
  {
   "cell_type": "code",
   "execution_count": 1,
   "id": "4050bb82",
   "metadata": {},
   "outputs": [
    {
     "name": "stdout",
     "output_type": "stream",
     "text": [
      "['apple', 'banana', 'cherry']\n"
     ]
    }
   ],
   "source": [
    "#Lists are used to store multiple items in a single variable.\n",
    "#Lists are created using square brackets and separated by commas.\n",
    "#List items are ordered, changeable, and allow duplicate values.\n",
    "friuts = [\"apple\", \"banana\", \"cherry\"]\n",
    "print(friuts)"
   ]
  },
  {
   "cell_type": "code",
   "execution_count": 2,
   "id": "6c11a065",
   "metadata": {},
   "outputs": [
    {
     "name": "stdout",
     "output_type": "stream",
     "text": [
      "[]\n"
     ]
    }
   ],
   "source": [
    "# empty list\n",
    "my_list = []\n",
    "print(my_list)"
   ]
  },
  {
   "cell_type": "code",
   "execution_count": 3,
   "id": "3a6fb62c",
   "metadata": {},
   "outputs": [
    {
     "name": "stdout",
     "output_type": "stream",
     "text": [
      "[1, 2, 3]\n"
     ]
    }
   ],
   "source": [
    "# list of integers\n",
    "my_list = [1, 2, 3]\n",
    "print(my_list)"
   ]
  },
  {
   "cell_type": "code",
   "execution_count": 4,
   "id": "adfaf165",
   "metadata": {},
   "outputs": [
    {
     "name": "stdout",
     "output_type": "stream",
     "text": [
      "[1, 'Hello', 3.4]\n"
     ]
    }
   ],
   "source": [
    "# list with mixed data types\n",
    "my_list = [1, \"Hello\", 3.4]\n",
    "print(my_list)"
   ]
  },
  {
   "cell_type": "code",
   "execution_count": 5,
   "id": "2449120b",
   "metadata": {},
   "outputs": [
    {
     "name": "stdout",
     "output_type": "stream",
     "text": [
      "['mouse', [8, 4, 6], ['a']]\n"
     ]
    }
   ],
   "source": [
    "# nested list\n",
    "my_list = [\"mouse\", [8, 4, 6], ['a']]\n",
    "print(my_list)"
   ]
  },
  {
   "cell_type": "markdown",
   "id": "06682487",
   "metadata": {},
   "source": [
    "***List Index***:"
   ]
  },
  {
   "cell_type": "code",
   "execution_count": 26,
   "id": "a9f3082e",
   "metadata": {},
   "outputs": [
    {
     "name": "stdout",
     "output_type": "stream",
     "text": [
      "p\n",
      "o\n",
      "e\n"
     ]
    }
   ],
   "source": [
    "my_list = ['p', 'r', 'o', 'b', 'e']\n",
    "\n",
    "print(my_list[0])  \n",
    "print(my_list[2])  \n",
    "print(my_list[4]) "
   ]
  },
  {
   "cell_type": "code",
   "execution_count": 29,
   "id": "7cbab588",
   "metadata": {},
   "outputs": [
    {
     "name": "stdout",
     "output_type": "stream",
     "text": [
      "a\n",
      "5\n"
     ]
    }
   ],
   "source": [
    "# Nested indexing\n",
    "n_list = [\"Happy\", [2, 0, 1, 5]]\n",
    "print(n_list[0][1])\n",
    "print(n_list[1][3])"
   ]
  },
  {
   "cell_type": "code",
   "execution_count": 30,
   "id": "470332e2",
   "metadata": {},
   "outputs": [
    {
     "name": "stdout",
     "output_type": "stream",
     "text": [
      "e\n",
      "p\n"
     ]
    }
   ],
   "source": [
    "# Negative indexing in lists\n",
    "my_list = ['p','r','o','b','e']\n",
    "\n",
    "print(my_list[-1])\n",
    "\n",
    "print(my_list[-5])"
   ]
  },
  {
   "cell_type": "code",
   "execution_count": 15,
   "id": "9673b2da",
   "metadata": {},
   "outputs": [
    {
     "name": "stdout",
     "output_type": "stream",
     "text": [
      "['apple', 'blackcurrant', 'cherry']\n",
      "['apple', 'blackcurrant', 'watermelon', 'orange', 'kiwi', 'mango']\n"
     ]
    }
   ],
   "source": [
    "#change the value of a specific item:\n",
    "thislist = [\"apple\", \"banana\", \"cherry\"]\n",
    "thislist[1] = \"blackcurrant\"\n",
    "print(thislist)\n",
    "\n",
    "\n",
    "#change the value of items within a specific range:\n",
    "thislist = [\"apple\", \"banana\", \"cherry\", \"orange\", \"kiwi\", \"mango\"]\n",
    "thislist[1:3] = [\"blackcurrant\", \"watermelon\"]\n",
    "print(thislist)\n"
   ]
  },
  {
   "cell_type": "code",
   "execution_count": 13,
   "id": "5be4b24a",
   "metadata": {},
   "outputs": [
    {
     "name": "stdout",
     "output_type": "stream",
     "text": [
      "3\n"
     ]
    }
   ],
   "source": [
    "#List Length:\n",
    "thislist = [\"apple\", \"banana\", \"cherry\"]\n",
    "print(len(thislist))\n"
   ]
  },
  {
   "cell_type": "code",
   "execution_count": 4,
   "id": "6f010a90",
   "metadata": {},
   "outputs": [
    {
     "name": "stdout",
     "output_type": "stream",
     "text": [
      "True\n",
      "False\n",
      "True\n",
      "I like apple\n",
      "I like banana\n",
      "I like mango\n"
     ]
    }
   ],
   "source": [
    "#Membership:\n",
    "my_list = ['p', 'r', 'o', 'b', 'l', 'e', 'm']\n",
    "\n",
    "\n",
    "print('p' in my_list)\n",
    "print('a' in my_list)\n",
    "print('c' not in my_list)\n",
    "\n",
    "for fruit in ['apple','banana','mango']:\n",
    "    print(\"I like\",fruit)"
   ]
  },
  {
   "cell_type": "markdown",
   "id": "f1d11729",
   "metadata": {},
   "source": [
    "***list slice***:"
   ]
  },
  {
   "cell_type": "code",
   "execution_count": 1,
   "id": "60fbcaf7",
   "metadata": {},
   "outputs": [
    {
     "name": "stdout",
     "output_type": "stream",
     "text": [
      "['p', 'r', 'o']\n"
     ]
    }
   ],
   "source": [
    "b = ['p','r','o','g','r','a','m','i','z']\n",
    "print(b[:3])"
   ]
  },
  {
   "cell_type": "code",
   "execution_count": 2,
   "id": "f989db5e",
   "metadata": {},
   "outputs": [
    {
     "name": "stdout",
     "output_type": "stream",
     "text": [
      "['o', 'g', 'r', 'a', 'm', 'i', 'z']\n"
     ]
    }
   ],
   "source": [
    "b = ['p','r','o','g','r','a','m','i','z']\n",
    "print(b[2:])"
   ]
  },
  {
   "cell_type": "code",
   "execution_count": 3,
   "id": "fd9acd29",
   "metadata": {},
   "outputs": [
    {
     "name": "stdout",
     "output_type": "stream",
     "text": [
      "['o', 'g', 'r']\n"
     ]
    }
   ],
   "source": [
    "b = ['p','r','o','g','r','a','m','i','z']\n",
    "print(b[2:5])"
   ]
  },
  {
   "cell_type": "code",
   "execution_count": 4,
   "id": "88ebe796",
   "metadata": {},
   "outputs": [
    {
     "name": "stdout",
     "output_type": "stream",
     "text": [
      "['p', 'r', 'o', 'g', 'r', 'a', 'm', 'i']\n"
     ]
    }
   ],
   "source": [
    "b = ['p','r','o','g','r','a','m','i','z']\n",
    "print(b[:-1])"
   ]
  },
  {
   "cell_type": "code",
   "execution_count": 5,
   "id": "28a23f7f",
   "metadata": {},
   "outputs": [
    {
     "name": "stdout",
     "output_type": "stream",
     "text": [
      "['a', 'm', 'i', 'z']\n"
     ]
    }
   ],
   "source": [
    "b = ['p','r','o','g','r','a','m','i','z']\n",
    "print(b[-4:])"
   ]
  },
  {
   "cell_type": "code",
   "execution_count": 6,
   "id": "8f4a0ea9",
   "metadata": {},
   "outputs": [
    {
     "name": "stdout",
     "output_type": "stream",
     "text": [
      "['r', 'a', 'm']\n"
     ]
    }
   ],
   "source": [
    "b = ['p','r','o','g','r','a','m','i','z']\n",
    "print(b[-5:-2])"
   ]
  },
  {
   "cell_type": "code",
   "execution_count": 7,
   "id": "aebfa6f5",
   "metadata": {},
   "outputs": [
    {
     "name": "stdout",
     "output_type": "stream",
     "text": [
      "['p', 'r', 'o', 'g', 'r', 'a', 'm', 'i', 'z']\n"
     ]
    }
   ],
   "source": [
    "b = ['p','r','o','g','r','a','m','i','z']\n",
    "print(b[:])"
   ]
  },
  {
   "cell_type": "code",
   "execution_count": 8,
   "id": "38f7fdaf",
   "metadata": {},
   "outputs": [
    {
     "name": "stdout",
     "output_type": "stream",
     "text": [
      "['p', 'o', 'r', 'm', 'z']\n"
     ]
    }
   ],
   "source": [
    "b = ['p','r','o','g','r','a','m','i','z']\n",
    "print(b[::2])"
   ]
  },
  {
   "cell_type": "code",
   "execution_count": 9,
   "id": "3ade20a7",
   "metadata": {},
   "outputs": [
    {
     "name": "stdout",
     "output_type": "stream",
     "text": [
      "['p', 'g', 'm']\n"
     ]
    }
   ],
   "source": [
    "b = ['p','r','o','g','r','a','m','i','z']\n",
    "print(b[::3])"
   ]
  },
  {
   "cell_type": "code",
   "execution_count": 10,
   "id": "ffa77882",
   "metadata": {},
   "outputs": [
    {
     "name": "stdout",
     "output_type": "stream",
     "text": [
      "['p', 'g', 'm']\n"
     ]
    }
   ],
   "source": [
    "b = ['p','r','o','g','r','a','m','i','z']\n",
    "print(b[:7:3])"
   ]
  },
  {
   "cell_type": "code",
   "execution_count": 11,
   "id": "4cd5eade",
   "metadata": {},
   "outputs": [
    {
     "name": "stdout",
     "output_type": "stream",
     "text": [
      "['o', 'a', 'z']\n"
     ]
    }
   ],
   "source": [
    "b = ['p','r','o','g','r','a','m','i','z']\n",
    "print(b[2::3])"
   ]
  },
  {
   "cell_type": "code",
   "execution_count": 12,
   "id": "7ee8851f",
   "metadata": {},
   "outputs": [
    {
     "name": "stdout",
     "output_type": "stream",
     "text": [
      "['o', 'a']\n"
     ]
    }
   ],
   "source": [
    "b = ['p','r','o','g','r','a','m','i','z']\n",
    "print(b[2:7:3])"
   ]
  },
  {
   "cell_type": "markdown",
   "id": "c0a28c35",
   "metadata": {},
   "source": [
    "***List Methods***:"
   ]
  },
  {
   "cell_type": "code",
   "execution_count": 18,
   "id": "94f1bf56",
   "metadata": {},
   "outputs": [
    {
     "name": "stdout",
     "output_type": "stream",
     "text": [
      "1\n",
      "2\n"
     ]
    }
   ],
   "source": [
    "#index():Returns the index of the first element with the specified value\n",
    "my_list = [3, 8, 1, 6, 0, 8, 4]\n",
    "print(my_list.index(8))\n",
    "\n",
    "fruits = ['apple', 'banana', 'cherry']\n",
    "x = fruits.index(\"cherry\")\n",
    "print(x)\n"
   ]
  },
  {
   "cell_type": "code",
   "execution_count": 8,
   "id": "a10c087d",
   "metadata": {},
   "outputs": [
    {
     "name": "stdout",
     "output_type": "stream",
     "text": [
      "['apple', 'banana', 'cherry', 'orange']\n"
     ]
    }
   ],
   "source": [
    "#append():Adds an element at the end of the list\n",
    "fruits = [\"apple\", \"banana\", \"cherry\"]\n",
    "fruits.append(\"orange\")\n",
    "print(fruits)"
   ]
  },
  {
   "cell_type": "code",
   "execution_count": 14,
   "id": "d6b7c9d2",
   "metadata": {},
   "outputs": [
    {
     "name": "stdout",
     "output_type": "stream",
     "text": [
      "['apple', 'orange', 'cherry', 'banana']\n"
     ]
    }
   ],
   "source": [
    "#insert():Adds an element at the specified position\n",
    "fruits = ['apple','cherry', 'banana']\n",
    "fruits.insert(1, \"orange\")\n",
    "print(fruits)\n"
   ]
  },
  {
   "cell_type": "code",
   "execution_count": 25,
   "id": "d4841e56",
   "metadata": {},
   "outputs": [
    {
     "name": "stdout",
     "output_type": "stream",
     "text": [
      "['apple', 'banana', 'cherry', 'Ford', 'BMW', 'Volvo']\n",
      "['apple', 'banana', 'cherry', 1, 4, 5, 9]\n",
      "['a', 'b', 'c', 1, 2, 3]\n",
      "['a', 'b', 'c', 1, 2, 3]\n"
     ]
    }
   ],
   "source": [
    "#extend():adds the specified list elements (or any iterable(list, set, tuple, etc.)) \n",
    "#         to the end of the current list.\n",
    "fruits = ['apple', 'banana', 'cherry']\n",
    "cars = ['Ford', 'BMW', 'Volvo'] # add list\n",
    "fruits.extend(cars)\n",
    "print(fruits)\n",
    "\n",
    "fruits = ['apple', 'banana', 'cherry']\n",
    "points = (1, 4, 5, 9) # add tuple\n",
    "fruits.extend(points)\n",
    "print(fruits)\n",
    "\n",
    "\n",
    "# another way Join Lists:\n",
    "list1 = [\"a\", \"b\", \"c\"]\n",
    "list2 = [1, 2, 3]\n",
    "\n",
    "list3 = list1 + list2\n",
    "print(list3)\n",
    "\n",
    "#or use  loop:\n",
    "list1 = [\"a\", \"b\" , \"c\"]\n",
    "list2 = [1, 2, 3]\n",
    "\n",
    "for x in list2:\n",
    "  list1.append(x)\n",
    "\n",
    "print(list1)\n",
    "\n"
   ]
  },
  {
   "cell_type": "code",
   "execution_count": 16,
   "id": "8e5ede5a",
   "metadata": {},
   "outputs": [
    {
     "name": "stdout",
     "output_type": "stream",
     "text": [
      "2\n"
     ]
    }
   ],
   "source": [
    "#count():Returns the number of elements with the specified value\n",
    "my_list = [3, 8, 1, 6, 0, 8, 4]\n",
    "print(my_list.count(8))"
   ]
  },
  {
   "cell_type": "code",
   "execution_count": 11,
   "id": "76bc8349",
   "metadata": {},
   "outputs": [
    {
     "name": "stdout",
     "output_type": "stream",
     "text": [
      "['apple', 'banana', 'cherry']\n"
     ]
    }
   ],
   "source": [
    "#copy():Returns a copy of the list\n",
    "fruits = [\"apple\", \"banana\", \"cherry\"]\n",
    "x = fruits.copy()\n",
    "print(x)\n"
   ]
  },
  {
   "cell_type": "code",
   "execution_count": 12,
   "id": "590369bf",
   "metadata": {},
   "outputs": [
    {
     "name": "stdout",
     "output_type": "stream",
     "text": [
      "[0, 1, 3, 4, 6, 8, 8]\n",
      "['BMW', 'Ford', 'Volvo']\n"
     ]
    }
   ],
   "source": [
    "#sort():Sorts the list\n",
    "my_list = [3, 8, 1, 6, 0, 8, 4]\n",
    "my_list.sort()\n",
    "print(my_list)\n",
    "\n",
    "cars = ['Ford', 'BMW', 'Volvo']\n",
    "cars.sort()\n",
    "print(cars)"
   ]
  },
  {
   "cell_type": "code",
   "execution_count": 15,
   "id": "232c1811",
   "metadata": {},
   "outputs": [
    {
     "name": "stdout",
     "output_type": "stream",
     "text": [
      "[4, 8, 0, 6, 1, 8, 3]\n",
      "['cherry', 'banana', 'apple']\n"
     ]
    }
   ],
   "source": [
    "#reverse():Reverses the order of the list\n",
    "my_list = [3, 8, 1, 6, 0, 8, 4]\n",
    "my_list.reverse()\n",
    "print(my_list)\n",
    "\n",
    "\n",
    "fruits = ['apple', 'banana', 'cherry']\n",
    "fruits.reverse()\n",
    "print(fruits)"
   ]
  },
  {
   "cell_type": "code",
   "execution_count": 20,
   "id": "59597c45",
   "metadata": {},
   "outputs": [
    {
     "name": "stdout",
     "output_type": "stream",
     "text": [
      "['apple', 'cherry', 'banana']\n"
     ]
    }
   ],
   "source": [
    "#remove():removes the first occurrence of the element with the specified value.\n",
    "fruits = ['apple', 'banana', 'cherry','banana']\n",
    "fruits.remove(\"banana\")\n",
    "print(fruits)\n"
   ]
  },
  {
   "cell_type": "code",
   "execution_count": 24,
   "id": "7b4ed42a",
   "metadata": {},
   "outputs": [
    {
     "name": "stdout",
     "output_type": "stream",
     "text": [
      "['apple', 'cherry']\n"
     ]
    }
   ],
   "source": [
    "#pop():removes the element at the specified position\n",
    "fruits = ['apple', 'banana', 'cherry']\n",
    "fruits.pop(1)\n",
    "print(fruits)"
   ]
  },
  {
   "cell_type": "code",
   "execution_count": 19,
   "id": "c7b8d614",
   "metadata": {},
   "outputs": [
    {
     "name": "stdout",
     "output_type": "stream",
     "text": [
      "[]\n"
     ]
    }
   ],
   "source": [
    "#clear(): removes all the elements from a list.\n",
    "fruits = [\"apple\", \"banana\", \"cherry\"]\n",
    "fruits.clear()\n",
    "print(fruits)"
   ]
  },
  {
   "cell_type": "markdown",
   "id": "20a45d89",
   "metadata": {},
   "source": [
    "# Tuple"
   ]
  },
  {
   "cell_type": "code",
   "execution_count": 1,
   "id": "16246a15",
   "metadata": {},
   "outputs": [
    {
     "name": "stdout",
     "output_type": "stream",
     "text": [
      "()\n",
      "(1, 2, 3)\n",
      "(1, 'Hello', 3.4)\n",
      "('mouse', [8, 4, 6], (1, 2, 3))\n"
     ]
    }
   ],
   "source": [
    "#Tuples are used to store multiple items in a single variable.\n",
    "#Tuples are written with round brackets.\n",
    "#A tuple is a collection which is ordered and unchangeable.\n",
    "\n",
    "# Different types of tuples\n",
    "\n",
    "# Empty tuple\n",
    "my_tuple = ()\n",
    "print(my_tuple)\n",
    "\n",
    "# Tuple having integers\n",
    "my_tuple = (1, 2, 3)\n",
    "print(my_tuple)\n",
    "\n",
    "# tuple with mixed datatypes\n",
    "my_tuple = (1, \"Hello\", 3.4)\n",
    "print(my_tuple)\n",
    "\n",
    "# nested tuple\n",
    "my_tuple = (\"mouse\", [8, 4, 6], (1, 2, 3))\n",
    "print(my_tuple)"
   ]
  },
  {
   "cell_type": "markdown",
   "id": "4578f907",
   "metadata": {},
   "source": [
    "***Tuple Indexing***:"
   ]
  },
  {
   "cell_type": "code",
   "execution_count": 2,
   "id": "6df2810e",
   "metadata": {},
   "outputs": [
    {
     "name": "stdout",
     "output_type": "stream",
     "text": [
      "p\n",
      "t\n"
     ]
    }
   ],
   "source": [
    "# Accessing tuple elements using indexing\n",
    "my_tuple = ('p','e','r','m','i','t')\n",
    "\n",
    "print(my_tuple[0])   \n",
    "print(my_tuple[5])  "
   ]
  },
  {
   "cell_type": "code",
   "execution_count": 3,
   "id": "b860432e",
   "metadata": {},
   "outputs": [
    {
     "name": "stdout",
     "output_type": "stream",
     "text": [
      "s\n",
      "4\n"
     ]
    }
   ],
   "source": [
    "# nested tuple\n",
    "n_tuple = (\"mouse\", [8, 4, 6], (1, 2, 3))\n",
    "\n",
    "# nested index\n",
    "print(n_tuple[0][3])       \n",
    "print(n_tuple[1][1])      "
   ]
  },
  {
   "cell_type": "code",
   "execution_count": 4,
   "id": "b292092b",
   "metadata": {},
   "outputs": [
    {
     "name": "stdout",
     "output_type": "stream",
     "text": [
      "t\n",
      "p\n"
     ]
    }
   ],
   "source": [
    "# Negative indexing for accessing tuple elements\n",
    "my_tuple = ('p', 'e', 'r', 'm', 'i', 't')\n",
    "\n",
    "print(my_tuple[-1])\n",
    "print(my_tuple[-6])"
   ]
  },
  {
   "cell_type": "markdown",
   "id": "cbc1f545",
   "metadata": {},
   "source": [
    "***Tuple Slicing***:"
   ]
  },
  {
   "cell_type": "code",
   "execution_count": 1,
   "id": "40ee98c8",
   "metadata": {},
   "outputs": [
    {
     "name": "stdout",
     "output_type": "stream",
     "text": [
      "('p', 'r', 'o')\n"
     ]
    }
   ],
   "source": [
    "b = ('p','r','o','g','r','a','m','i','z')\n",
    "print(b[:3])"
   ]
  },
  {
   "cell_type": "code",
   "execution_count": 2,
   "id": "b1be61c3",
   "metadata": {},
   "outputs": [
    {
     "name": "stdout",
     "output_type": "stream",
     "text": [
      "('o', 'g', 'r', 'a', 'm', 'i', 'z')\n"
     ]
    }
   ],
   "source": [
    "b = ('p','r','o','g','r','a','m','i','z')\n",
    "print(b[2:])"
   ]
  },
  {
   "cell_type": "code",
   "execution_count": 3,
   "id": "f19cd533",
   "metadata": {},
   "outputs": [
    {
     "name": "stdout",
     "output_type": "stream",
     "text": [
      "('o', 'g', 'r')\n"
     ]
    }
   ],
   "source": [
    "b = ('p','r','o','g','r','a','m','i','z')\n",
    "print(b[2:5])"
   ]
  },
  {
   "cell_type": "code",
   "execution_count": 4,
   "id": "0e1ab372",
   "metadata": {},
   "outputs": [
    {
     "name": "stdout",
     "output_type": "stream",
     "text": [
      "('p', 'r', 'o', 'g', 'r', 'a', 'm', 'i')\n"
     ]
    }
   ],
   "source": [
    "b = ('p','r','o','g','r','a','m','i','z')\n",
    "print(b[:-1])"
   ]
  },
  {
   "cell_type": "code",
   "execution_count": 5,
   "id": "a5182798",
   "metadata": {},
   "outputs": [
    {
     "name": "stdout",
     "output_type": "stream",
     "text": [
      "('a', 'm', 'i', 'z')\n"
     ]
    }
   ],
   "source": [
    "b = ('p','r','o','g','r','a','m','i','z')\n",
    "print(b[-4:])"
   ]
  },
  {
   "cell_type": "code",
   "execution_count": 6,
   "id": "ba856d92",
   "metadata": {},
   "outputs": [
    {
     "name": "stdout",
     "output_type": "stream",
     "text": [
      "('r', 'a', 'm')\n"
     ]
    }
   ],
   "source": [
    "b = ('p','r','o','g','r','a','m','i','z')\n",
    "print(b[-5:-2])"
   ]
  },
  {
   "cell_type": "code",
   "execution_count": 7,
   "id": "475ead08",
   "metadata": {},
   "outputs": [
    {
     "name": "stdout",
     "output_type": "stream",
     "text": [
      "('p', 'r', 'o', 'g', 'r', 'a', 'm', 'i', 'z')\n"
     ]
    }
   ],
   "source": [
    "b = ('p','r','o','g','r','a','m','i','z')\n",
    "print(b[:])"
   ]
  },
  {
   "cell_type": "code",
   "execution_count": 8,
   "id": "8deb458f",
   "metadata": {},
   "outputs": [
    {
     "name": "stdout",
     "output_type": "stream",
     "text": [
      "('p', 'o', 'r', 'm', 'z')\n"
     ]
    }
   ],
   "source": [
    "b = ('p','r','o','g','r','a','m','i','z')\n",
    "print(b[::2])"
   ]
  },
  {
   "cell_type": "code",
   "execution_count": 9,
   "id": "98c87904",
   "metadata": {},
   "outputs": [
    {
     "name": "stdout",
     "output_type": "stream",
     "text": [
      "('p', 'g', 'm')\n"
     ]
    }
   ],
   "source": [
    "b = ('p','r','o','g','r','a','m','i','z')\n",
    "print(b[::3])"
   ]
  },
  {
   "cell_type": "code",
   "execution_count": 10,
   "id": "62501b50",
   "metadata": {},
   "outputs": [
    {
     "name": "stdout",
     "output_type": "stream",
     "text": [
      "('p', 'g', 'm')\n"
     ]
    }
   ],
   "source": [
    "b = ('p','r','o','g','r','a','m','i','z')\n",
    "print(b[:7:3])"
   ]
  },
  {
   "cell_type": "code",
   "execution_count": 11,
   "id": "8e675d62",
   "metadata": {},
   "outputs": [
    {
     "name": "stdout",
     "output_type": "stream",
     "text": [
      "('o', 'a', 'z')\n"
     ]
    }
   ],
   "source": [
    "b = ('p','r','o','g','r','a','m','i','z')\n",
    "print(b[2::3])"
   ]
  },
  {
   "cell_type": "code",
   "execution_count": 12,
   "id": "997397c9",
   "metadata": {},
   "outputs": [
    {
     "name": "stdout",
     "output_type": "stream",
     "text": [
      "('o', 'a')\n"
     ]
    }
   ],
   "source": [
    "b = ('p','r','o','g','r','a','m','i','z')\n",
    "print(b[2:7:3])"
   ]
  },
  {
   "cell_type": "markdown",
   "id": "fee02061",
   "metadata": {},
   "source": [
    "***Changing a Tuple***:"
   ]
  },
  {
   "cell_type": "code",
   "execution_count": 13,
   "id": "e38022a6",
   "metadata": {},
   "outputs": [
    {
     "ename": "TypeError",
     "evalue": "'tuple' object does not support item assignment",
     "output_type": "error",
     "traceback": [
      "\u001b[1;31m---------------------------------------------------------------------------\u001b[0m",
      "\u001b[1;31mTypeError\u001b[0m                                 Traceback (most recent call last)",
      "\u001b[1;32m<ipython-input-13-7a57312cd443>\u001b[0m in \u001b[0;36m<module>\u001b[1;34m\u001b[0m\n\u001b[0;32m      2\u001b[0m \u001b[1;31m#But,if the element is itself a mutable data type like a list,its nested items can be changed.\u001b[0m\u001b[1;33m\u001b[0m\u001b[1;33m\u001b[0m\u001b[1;33m\u001b[0m\u001b[0m\n\u001b[0;32m      3\u001b[0m \u001b[0mmy_tuple\u001b[0m \u001b[1;33m=\u001b[0m \u001b[1;33m(\u001b[0m\u001b[1;36m4\u001b[0m\u001b[1;33m,\u001b[0m \u001b[1;36m2\u001b[0m\u001b[1;33m,\u001b[0m \u001b[1;36m3\u001b[0m\u001b[1;33m,\u001b[0m \u001b[1;33m[\u001b[0m\u001b[1;36m6\u001b[0m\u001b[1;33m,\u001b[0m \u001b[1;36m5\u001b[0m\u001b[1;33m]\u001b[0m\u001b[1;33m)\u001b[0m\u001b[1;33m\u001b[0m\u001b[1;33m\u001b[0m\u001b[0m\n\u001b[1;32m----> 4\u001b[1;33m \u001b[0mmy_tuple\u001b[0m\u001b[1;33m[\u001b[0m\u001b[1;36m1\u001b[0m\u001b[1;33m]\u001b[0m \u001b[1;33m=\u001b[0m \u001b[1;36m9\u001b[0m\u001b[1;33m\u001b[0m\u001b[1;33m\u001b[0m\u001b[0m\n\u001b[0m",
      "\u001b[1;31mTypeError\u001b[0m: 'tuple' object does not support item assignment"
     ]
    }
   ],
   "source": [
    "#tuple cannot change, add, or remove items once the tuple is created.\n",
    "#But,if the element is itself a mutable data type like a list,its nested items can be changed.\n",
    "my_tuple = (4, 2, 3, [6, 5])\n",
    "my_tuple[1] = 9"
   ]
  },
  {
   "cell_type": "code",
   "execution_count": 18,
   "id": "5f7323d5",
   "metadata": {},
   "outputs": [
    {
     "name": "stdout",
     "output_type": "stream",
     "text": [
      "(4, 2, 3, [9, 5])\n"
     ]
    }
   ],
   "source": [
    "my_tuple = (4, 2, 3, [6, 5])\n",
    "my_tuple[3][0] = 9    \n",
    "print(my_tuple)"
   ]
  },
  {
   "cell_type": "code",
   "execution_count": 23,
   "id": "706a2bee",
   "metadata": {},
   "outputs": [
    {
     "name": "stdout",
     "output_type": "stream",
     "text": [
      "('apple', 'mango', 'cherry')\n"
     ]
    }
   ],
   "source": [
    "#Convert the tuple into a list to be able to change it:\n",
    "x = (\"apple\", \"banana\", \"cherry\")\n",
    "y = list(x)\n",
    "y[1] = \"mango\"\n",
    "x = tuple(y)\n",
    "\n",
    "print(x)"
   ]
  },
  {
   "cell_type": "code",
   "execution_count": 24,
   "id": "89cb9201",
   "metadata": {},
   "outputs": [
    {
     "name": "stdout",
     "output_type": "stream",
     "text": [
      "('apple', 'banana', 'cherry', 'orange')\n"
     ]
    }
   ],
   "source": [
    "#Add tuple to a tuple to be able to change it:\n",
    "thistuple = (\"apple\", \"banana\", \"cherry\")\n",
    "y = (\"orange\",)\n",
    "thistuple += y\n",
    "\n",
    "print(thistuple)"
   ]
  },
  {
   "cell_type": "code",
   "execution_count": 25,
   "id": "419004e4",
   "metadata": {},
   "outputs": [
    {
     "name": "stdout",
     "output_type": "stream",
     "text": [
      "apple\n",
      "['mango', 'papaya', 'pineapple']\n",
      "cherry\n"
     ]
    }
   ],
   "source": [
    "#Using Asterisk*:If the number of variables is less than the number of values,\n",
    "#                you can add an * to the variable name and the values will be assigned\n",
    "#                to the variable as a list:\n",
    "fruits = (\"apple\", \"mango\", \"papaya\", \"pineapple\", \"cherry\")\n",
    "\n",
    "(green, *tropic, red) = fruits\n",
    "print(green)\n",
    "print(tropic)\n",
    "print(red)\n"
   ]
  },
  {
   "cell_type": "code",
   "execution_count": 20,
   "id": "da726298",
   "metadata": {},
   "outputs": [
    {
     "name": "stdout",
     "output_type": "stream",
     "text": [
      "(1, 2, 3, 4, 5, 6)\n",
      "('Repeat', 'Repeat', 'Repeat')\n"
     ]
    }
   ],
   "source": [
    "#concatenation:We can use + operator to combine two tuples. This is called concatenation.\n",
    "print((1, 2, 3) + (4, 5, 6))\n",
    "\n",
    "#multiplication/repeat :We can also repeat the elements in a tuple \n",
    "#                       for a given number of times using the * operator.\n",
    "print((\"Repeat\",) * 3)"
   ]
  },
  {
   "cell_type": "code",
   "execution_count": 21,
   "id": "e9ecb65c",
   "metadata": {},
   "outputs": [
    {
     "name": "stdout",
     "output_type": "stream",
     "text": [
      "3\n"
     ]
    }
   ],
   "source": [
    "#Tuple Length:\n",
    "thistuple = (\"apple\", \"banana\", \"cherry\")\n",
    "print(len(thistuple))"
   ]
  },
  {
   "cell_type": "code",
   "execution_count": 28,
   "id": "1e32e246",
   "metadata": {},
   "outputs": [
    {
     "name": "stdout",
     "output_type": "stream",
     "text": [
      "True\n",
      "False\n",
      "True\n"
     ]
    }
   ],
   "source": [
    "#Tuple Membership Test:\n",
    "\n",
    "my_tuple = ('a', 'p', 'p', 'l', 'e',)\n",
    "print('a' in my_tuple)\n",
    "print('b' in my_tuple)\n",
    "\n",
    "print('g' not in my_tuple)"
   ]
  },
  {
   "cell_type": "code",
   "execution_count": 29,
   "id": "25b96020",
   "metadata": {},
   "outputs": [
    {
     "name": "stdout",
     "output_type": "stream",
     "text": [
      "Hello John\n",
      "Hello Kate\n"
     ]
    }
   ],
   "source": [
    "#Iterating Through a Tuple:\n",
    "for name in ('John', 'Kate'):\n",
    "    print(\"Hello\", name)"
   ]
  },
  {
   "cell_type": "code",
   "execution_count": 32,
   "id": "30b651da",
   "metadata": {},
   "outputs": [
    {
     "ename": "TypeError",
     "evalue": "'tuple' object doesn't support item deletion",
     "output_type": "error",
     "traceback": [
      "\u001b[1;31m---------------------------------------------------------------------------\u001b[0m",
      "\u001b[1;31mTypeError\u001b[0m                                 Traceback (most recent call last)",
      "\u001b[1;32m<ipython-input-32-05f550d2561c>\u001b[0m in \u001b[0;36m<module>\u001b[1;34m\u001b[0m\n\u001b[0;32m      3\u001b[0m \u001b[1;33m\u001b[0m\u001b[0m\n\u001b[0;32m      4\u001b[0m \u001b[0mmy_tuple\u001b[0m \u001b[1;33m=\u001b[0m \u001b[1;33m(\u001b[0m\u001b[1;34m'p'\u001b[0m\u001b[1;33m,\u001b[0m \u001b[1;34m'r'\u001b[0m\u001b[1;33m,\u001b[0m \u001b[1;34m'o'\u001b[0m\u001b[1;33m,\u001b[0m \u001b[1;34m'g'\u001b[0m\u001b[1;33m,\u001b[0m \u001b[1;34m'r'\u001b[0m\u001b[1;33m,\u001b[0m \u001b[1;34m'a'\u001b[0m\u001b[1;33m,\u001b[0m \u001b[1;34m'm'\u001b[0m\u001b[1;33m,\u001b[0m \u001b[1;34m'i'\u001b[0m\u001b[1;33m,\u001b[0m \u001b[1;34m'z'\u001b[0m\u001b[1;33m)\u001b[0m\u001b[1;33m\u001b[0m\u001b[1;33m\u001b[0m\u001b[0m\n\u001b[1;32m----> 5\u001b[1;33m \u001b[1;32mdel\u001b[0m \u001b[0mmy_tuple\u001b[0m\u001b[1;33m[\u001b[0m\u001b[1;36m3\u001b[0m\u001b[1;33m]\u001b[0m\u001b[1;33m\u001b[0m\u001b[1;33m\u001b[0m\u001b[0m\n\u001b[0m\u001b[0;32m      6\u001b[0m \u001b[1;33m\u001b[0m\u001b[0m\n\u001b[0;32m      7\u001b[0m \u001b[1;33m\u001b[0m\u001b[0m\n",
      "\u001b[1;31mTypeError\u001b[0m: 'tuple' object doesn't support item deletion"
     ]
    }
   ],
   "source": [
    "#Deleting a Tuple:we cannot delete or remove items from a tuple\n",
    "                \n",
    "my_tuple = ('p', 'r', 'o', 'g', 'r', 'a', 'm', 'i', 'z')\n",
    "del my_tuple[3]\n"
   ]
  },
  {
   "cell_type": "code",
   "execution_count": 33,
   "id": "be853ddf",
   "metadata": {},
   "outputs": [
    {
     "ename": "NameError",
     "evalue": "name 'my_tuple' is not defined",
     "output_type": "error",
     "traceback": [
      "\u001b[1;31m---------------------------------------------------------------------------\u001b[0m",
      "\u001b[1;31mNameError\u001b[0m                                 Traceback (most recent call last)",
      "\u001b[1;32m<ipython-input-33-efb2ce095b5d>\u001b[0m in \u001b[0;36m<module>\u001b[1;34m\u001b[0m\n\u001b[0;32m      1\u001b[0m \u001b[0mmy_tuple\u001b[0m \u001b[1;33m=\u001b[0m \u001b[1;33m(\u001b[0m\u001b[1;34m'p'\u001b[0m\u001b[1;33m,\u001b[0m \u001b[1;34m'r'\u001b[0m\u001b[1;33m,\u001b[0m \u001b[1;34m'o'\u001b[0m\u001b[1;33m,\u001b[0m \u001b[1;34m'g'\u001b[0m\u001b[1;33m,\u001b[0m \u001b[1;34m'r'\u001b[0m\u001b[1;33m,\u001b[0m \u001b[1;34m'a'\u001b[0m\u001b[1;33m,\u001b[0m \u001b[1;34m'm'\u001b[0m\u001b[1;33m,\u001b[0m \u001b[1;34m'i'\u001b[0m\u001b[1;33m,\u001b[0m \u001b[1;34m'z'\u001b[0m\u001b[1;33m)\u001b[0m\u001b[1;33m\u001b[0m\u001b[1;33m\u001b[0m\u001b[0m\n\u001b[0;32m      2\u001b[0m \u001b[1;32mdel\u001b[0m \u001b[0mmy_tuple\u001b[0m\u001b[1;33m\u001b[0m\u001b[1;33m\u001b[0m\u001b[0m\n\u001b[1;32m----> 3\u001b[1;33m \u001b[0mprint\u001b[0m\u001b[1;33m(\u001b[0m\u001b[0mmy_tuple\u001b[0m\u001b[1;33m)\u001b[0m\u001b[1;33m\u001b[0m\u001b[1;33m\u001b[0m\u001b[0m\n\u001b[0m",
      "\u001b[1;31mNameError\u001b[0m: name 'my_tuple' is not defined"
     ]
    }
   ],
   "source": [
    "#But Deleting a tuple entirely, however, is possible using the keyword del.\n",
    "my_tuple = ('p', 'r', 'o', 'g', 'r', 'a', 'm', 'i', 'z')\n",
    "del my_tuple\n",
    "print(my_tuple)"
   ]
  },
  {
   "cell_type": "markdown",
   "id": "00f50600",
   "metadata": {},
   "source": [
    "***Methods***:"
   ]
  },
  {
   "cell_type": "code",
   "execution_count": 26,
   "id": "12323fca",
   "metadata": {},
   "outputs": [
    {
     "name": "stdout",
     "output_type": "stream",
     "text": [
      "2\n"
     ]
    }
   ],
   "source": [
    "#count():returns the number of times a specified value appears in the tuple.\n",
    "\n",
    "thistuple = (1, 3, 7, 8, 7, 5, 4, 6, 8, 5)\n",
    "x = thistuple.count(5)\n",
    "print(x)\n"
   ]
  },
  {
   "cell_type": "code",
   "execution_count": 27,
   "id": "9ce940eb",
   "metadata": {},
   "outputs": [
    {
     "name": "stdout",
     "output_type": "stream",
     "text": [
      "3\n"
     ]
    }
   ],
   "source": [
    "#index():finds the first occurrence of the specified value.\n",
    "\n",
    "thistuple = (1, 3, 7, 8, 7, 5, 4, 6, 8, 5)\n",
    "x = thistuple.index(8)\n",
    "print(x)"
   ]
  },
  {
   "cell_type": "markdown",
   "id": "58e4846d",
   "metadata": {},
   "source": [
    "# Sets"
   ]
  },
  {
   "cell_type": "code",
   "execution_count": 44,
   "id": "1db47c80",
   "metadata": {},
   "outputs": [
    {
     "name": "stdout",
     "output_type": "stream",
     "text": [
      "{'banana', 'apple', 'cherry'}\n",
      "{1, 3, 5, 7, 9}\n",
      "{False, True}\n",
      "{True, 34, 'male', 40, 'abc'}\n",
      "{1, 2, 3}\n"
     ]
    },
    {
     "ename": "TypeError",
     "evalue": "unhashable type: 'list'",
     "output_type": "error",
     "traceback": [
      "\u001b[1;31m---------------------------------------------------------------------------\u001b[0m",
      "\u001b[1;31mTypeError\u001b[0m                                 Traceback (most recent call last)",
      "\u001b[1;32m<ipython-input-44-ee1588ac89d8>\u001b[0m in \u001b[0;36m<module>\u001b[1;34m\u001b[0m\n\u001b[0;32m     25\u001b[0m \u001b[1;33m\u001b[0m\u001b[0m\n\u001b[0;32m     26\u001b[0m \u001b[1;33m\u001b[0m\u001b[0m\n\u001b[1;32m---> 27\u001b[1;33m \u001b[0mmy_set\u001b[0m \u001b[1;33m=\u001b[0m \u001b[1;33m{\u001b[0m\u001b[1;36m1\u001b[0m\u001b[1;33m,\u001b[0m \u001b[1;36m2\u001b[0m\u001b[1;33m,\u001b[0m \u001b[1;33m[\u001b[0m\u001b[1;36m3\u001b[0m\u001b[1;33m,\u001b[0m \u001b[1;36m4\u001b[0m\u001b[1;33m]\u001b[0m\u001b[1;33m}\u001b[0m \u001b[1;31m#set cannot have mutable items\u001b[0m\u001b[1;33m\u001b[0m\u001b[1;33m\u001b[0m\u001b[0m\n\u001b[0m\u001b[0;32m     28\u001b[0m \u001b[0mprint\u001b[0m\u001b[1;33m(\u001b[0m\u001b[0mmy_set\u001b[0m\u001b[1;33m)\u001b[0m\u001b[1;33m\u001b[0m\u001b[1;33m\u001b[0m\u001b[0m\n",
      "\u001b[1;31mTypeError\u001b[0m: unhashable type: 'list'"
     ]
    }
   ],
   "source": [
    "#Sets are used to store multiple items in a single variable.\n",
    "#Sets are written with curly brackets.\n",
    "#Set items are unordered, unchangeable, and do not allow duplicate values,\n",
    "#set cannot have mutable items\n",
    "\n",
    "#string\n",
    "set1 = {\"apple\", \"banana\", \"cherry\"}\n",
    "print(set1)\n",
    "\n",
    "#integer\n",
    "set2 = {1, 5, 7, 9, 3}\n",
    "print(set2)\n",
    "\n",
    "#boolean\n",
    "set3 = {True, False, False}\n",
    "print(set3)\n",
    "\n",
    "#A set can contain different data types:\n",
    "set4 = {\"abc\", 34, True, 40,34, \"male\"} #unordered,do not allow duplicate values\n",
    "print(set4)\n",
    "\n",
    "# we can make set from a list\n",
    "my_set = set([1, 2, 3, 2])\n",
    "print(my_set)\n",
    "\n",
    "\n",
    "my_set = {1, 2, [3, 4]} #set cannot have mutable items\n",
    "print(my_set)"
   ]
  },
  {
   "cell_type": "code",
   "execution_count": 46,
   "id": "f884176b",
   "metadata": {},
   "outputs": [
    {
     "ename": "TypeError",
     "evalue": "'set' object is not subscriptable",
     "output_type": "error",
     "traceback": [
      "\u001b[1;31m---------------------------------------------------------------------------\u001b[0m",
      "\u001b[1;31mTypeError\u001b[0m                                 Traceback (most recent call last)",
      "\u001b[1;32m<ipython-input-46-14e1a557f602>\u001b[0m in \u001b[0;36m<module>\u001b[1;34m\u001b[0m\n\u001b[0;32m      1\u001b[0m \u001b[1;31m#We cannot access or change an element of a set using indexing or slicing\u001b[0m\u001b[1;33m\u001b[0m\u001b[1;33m\u001b[0m\u001b[1;33m\u001b[0m\u001b[0m\n\u001b[0;32m      2\u001b[0m \u001b[0mmy_set\u001b[0m \u001b[1;33m=\u001b[0m \u001b[1;33m{\u001b[0m\u001b[1;36m1\u001b[0m\u001b[1;33m,\u001b[0m \u001b[1;36m3\u001b[0m\u001b[1;33m}\u001b[0m\u001b[1;33m\u001b[0m\u001b[1;33m\u001b[0m\u001b[0m\n\u001b[1;32m----> 3\u001b[1;33m \u001b[0mprint\u001b[0m\u001b[1;33m(\u001b[0m\u001b[0mmy_set\u001b[0m\u001b[1;33m[\u001b[0m\u001b[1;36m0\u001b[0m\u001b[1;33m]\u001b[0m\u001b[1;33m)\u001b[0m\u001b[1;33m\u001b[0m\u001b[1;33m\u001b[0m\u001b[0m\n\u001b[0m\u001b[0;32m      4\u001b[0m \u001b[1;33m\u001b[0m\u001b[0m\n\u001b[0;32m      5\u001b[0m \u001b[1;33m\u001b[0m\u001b[0m\n",
      "\u001b[1;31mTypeError\u001b[0m: 'set' object is not subscriptable"
     ]
    }
   ],
   "source": [
    "#We cannot access or change an element of a set using indexing or slicing\n",
    "my_set = {1, 3}\n",
    "print(my_set[0])\n",
    "\n"
   ]
  },
  {
   "cell_type": "code",
   "execution_count": 47,
   "id": "c59addbe",
   "metadata": {},
   "outputs": [
    {
     "name": "stdout",
     "output_type": "stream",
     "text": [
      "banana\n",
      "apple\n",
      "cherry\n"
     ]
    }
   ],
   "source": [
    "#But you can loop through the set items using a for loop:\n",
    "thisset = {\"apple\", \"banana\", \"cherry\"}\n",
    "\n",
    "for x in thisset:\n",
    "  print(x)"
   ]
  },
  {
   "cell_type": "code",
   "execution_count": 48,
   "id": "dc379629",
   "metadata": {},
   "outputs": [
    {
     "name": "stdout",
     "output_type": "stream",
     "text": [
      "True\n"
     ]
    }
   ],
   "source": [
    "# ask if a specified value is present in a set, by using the in keyword.\n",
    "thisset = {\"apple\", \"banana\", \"cherry\"}\n",
    "\n",
    "print(\"banana\" in thisset)"
   ]
  },
  {
   "cell_type": "code",
   "execution_count": 6,
   "id": "47b5770f",
   "metadata": {},
   "outputs": [
    {
     "name": "stdout",
     "output_type": "stream",
     "text": [
      "3\n"
     ]
    }
   ],
   "source": [
    "#Length of a Set:\n",
    "thisset = {\"apple\", \"banana\", \"cherry\"}\n",
    "\n",
    "print(len(thisset))"
   ]
  },
  {
   "cell_type": "markdown",
   "id": "a170fdd2",
   "metadata": {},
   "source": [
    "***Set Operations***:"
   ]
  },
  {
   "cell_type": "code",
   "execution_count": 2,
   "id": "465e97ca",
   "metadata": {},
   "outputs": [
    {
     "name": "stdout",
     "output_type": "stream",
     "text": [
      "{1, 2, 3, 4, 5, 6, 7, 8}\n"
     ]
    }
   ],
   "source": [
    "#Set Union:\n",
    "A = {1, 2, 3, 4, 5}\n",
    "B = {4, 5, 6, 7, 8}\n",
    "\n",
    "print(A | B)"
   ]
  },
  {
   "cell_type": "code",
   "execution_count": 3,
   "id": "d0154b4e",
   "metadata": {},
   "outputs": [
    {
     "name": "stdout",
     "output_type": "stream",
     "text": [
      "{4, 5}\n"
     ]
    }
   ],
   "source": [
    "#Set Intersection\n",
    "A = {1, 2, 3, 4, 5}\n",
    "B = {4, 5, 6, 7, 8}\n",
    "\n",
    "print(A & B)"
   ]
  },
  {
   "cell_type": "code",
   "execution_count": 4,
   "id": "7d9a38c4",
   "metadata": {},
   "outputs": [
    {
     "name": "stdout",
     "output_type": "stream",
     "text": [
      "{1, 2, 3}\n"
     ]
    }
   ],
   "source": [
    "#Set Difference:\n",
    "A = {1, 2, 3, 4, 5}\n",
    "B = {4, 5, 6, 7, 8}\n",
    "\n",
    "print(A - B)"
   ]
  },
  {
   "cell_type": "code",
   "execution_count": 5,
   "id": "4a2b93dd",
   "metadata": {},
   "outputs": [
    {
     "name": "stdout",
     "output_type": "stream",
     "text": [
      "{1, 2, 3, 6, 7, 8}\n"
     ]
    }
   ],
   "source": [
    "#Set Symmetric Difference\n",
    "A = {1, 2, 3, 4, 5}\n",
    "B = {4, 5, 6, 7, 8}\n",
    "\n",
    "print(A ^ B)"
   ]
  },
  {
   "cell_type": "markdown",
   "id": "abdd1e09",
   "metadata": {},
   "source": [
    "# Set Methods"
   ]
  },
  {
   "cell_type": "code",
   "execution_count": 7,
   "id": "c5379570",
   "metadata": {},
   "outputs": [
    {
     "name": "stdout",
     "output_type": "stream",
     "text": [
      "{'apple', 'cherry', 'orange', 'banana'}\n"
     ]
    }
   ],
   "source": [
    "#add():adds an element to the set.\n",
    "thisset = {\"apple\", \"banana\", \"cherry\"}\n",
    "\n",
    "thisset.add(\"orange\")\n",
    "\n",
    "print(thisset)\n"
   ]
  },
  {
   "cell_type": "code",
   "execution_count": 8,
   "id": "b8a2ab7b",
   "metadata": {},
   "outputs": [
    {
     "name": "stdout",
     "output_type": "stream",
     "text": [
      "set()\n"
     ]
    }
   ],
   "source": [
    "#clear():removes all elements in a set.\n",
    "fruits = {\"apple\", \"banana\", \"cherry\"}\n",
    "\n",
    "fruits.clear()\n",
    "\n",
    "print(fruits)\n"
   ]
  },
  {
   "cell_type": "code",
   "execution_count": 9,
   "id": "ca817d7e",
   "metadata": {},
   "outputs": [
    {
     "name": "stdout",
     "output_type": "stream",
     "text": [
      "numbers:  {1, 2, 3, 4}\n",
      "new_numbers:  {1, 2, 3, 4, 5}\n"
     ]
    }
   ],
   "source": [
    "#copy():returns a shallow copy of the set.\n",
    "numbers = {1, 2, 3, 4}\n",
    "new_numbers = numbers.copy()\n",
    "\n",
    "new_numbers.add(5)\n",
    "\n",
    "print('numbers: ', numbers)\n",
    "print('new_numbers: ', new_numbers)"
   ]
  },
  {
   "cell_type": "code",
   "execution_count": 11,
   "id": "774d8ee1",
   "metadata": {},
   "outputs": [
    {
     "name": "stdout",
     "output_type": "stream",
     "text": [
      "A U B = {2, 'd', 'c', 'a'}\n",
      "B U C = {1, 2, 3, 'd', 'c'}\n",
      "A U B U C = {1, 2, 3, 'd', 'c', 'a'}\n",
      "A.union() = {'c', 'a', 'd'}\n"
     ]
    }
   ],
   "source": [
    "#union():Return a set that contains all items from both sets, duplicates are excluded\n",
    "A = {'a', 'c', 'd'}\n",
    "B = {'c', 'd', 2 }\n",
    "C = {1, 2, 3}\n",
    "\n",
    "print('A U B =', A.union(B))\n",
    "print('B U C =', B.union(C))\n",
    "print('A U B U C =', A.union(B, C))\n",
    "\n",
    "print('A.union() =', A.union())"
   ]
  },
  {
   "cell_type": "code",
   "execution_count": 14,
   "id": "178c4c34",
   "metadata": {},
   "outputs": [
    {
     "name": "stdout",
     "output_type": "stream",
     "text": [
      "{2, 5}\n",
      "{2}\n",
      "{2, 3}\n",
      "{2}\n"
     ]
    }
   ],
   "source": [
    "#intersection():returns a new set with elements that are common to all sets.\n",
    "A = {2, 3, 5, 4}\n",
    "B = {2, 5, 100}\n",
    "C = {2, 3, 8, 9, 10}\n",
    "\n",
    "print(B.intersection(A))\n",
    "print(B.intersection(C))\n",
    "print(A.intersection(C))\n",
    "print(C.intersection(A, B))"
   ]
  },
  {
   "cell_type": "code",
   "execution_count": 36,
   "id": "109bbeac",
   "metadata": {},
   "outputs": [
    {
     "name": "stdout",
     "output_type": "stream",
     "text": [
      "{'c'}\n"
     ]
    }
   ],
   "source": [
    "#intersection_update():Removes the items in this set that are not present \n",
    "#                      in other, specified set\n",
    "x = {\"a\", \"b\", \"c\"}\n",
    "y = {\"c\", \"d\", \"e\"}\n",
    "z = {\"f\", \"g\", \"c\"}\n",
    "\n",
    "x.intersection_update(y, z)\n",
    "\n",
    "print(x)"
   ]
  },
  {
   "cell_type": "code",
   "execution_count": 10,
   "id": "404956b0",
   "metadata": {},
   "outputs": [
    {
     "name": "stdout",
     "output_type": "stream",
     "text": [
      "{'b', 'a', 'd'}\n",
      "{'g', 'f'}\n"
     ]
    }
   ],
   "source": [
    "#difference():The returned set contains items that exist only in the first set,\n",
    "#             and not in both sets.\n",
    "\n",
    "A = {'a', 'b', 'c', 'd'}\n",
    "B = {'c', 'f', 'g'}\n",
    "\n",
    "# Equivalent to A-B\n",
    "print(A.difference(B))\n",
    "\n",
    "# Equivalent to B-A\n",
    "print(B.difference(A))\n"
   ]
  },
  {
   "cell_type": "code",
   "execution_count": 12,
   "id": "1d278ed0",
   "metadata": {},
   "outputs": [
    {
     "name": "stdout",
     "output_type": "stream",
     "text": [
      "A =  {'d', 'a'}\n",
      "B =  {'g', 'c', 'f'}\n",
      "result =  None\n"
     ]
    }
   ],
   "source": [
    "#difference_update():Remove the items that exist in both sets\n",
    "A = {'a', 'c', 'g', 'd'}\n",
    "B = {'c', 'f', 'g'}\n",
    "\n",
    "result = A.difference_update(B)\n",
    "\n",
    "print('A = ', A)\n",
    "print('B = ', B)\n",
    "print('result = ', result)"
   ]
  },
  {
   "cell_type": "code",
   "execution_count": 16,
   "id": "9c8c0e6a",
   "metadata": {},
   "outputs": [
    {
     "name": "stdout",
     "output_type": "stream",
     "text": [
      "{'apple', 'cherry'}\n"
     ]
    }
   ],
   "source": [
    "#discard():removes the specified item from the set.\n",
    "fruits = {\"apple\", \"banana\", \"cherry\"}\n",
    "\n",
    "fruits.discard(\"banana\")\n",
    "\n",
    "print(fruits)"
   ]
  },
  {
   "cell_type": "code",
   "execution_count": 17,
   "id": "a71f103b",
   "metadata": {},
   "outputs": [
    {
     "name": "stdout",
     "output_type": "stream",
     "text": [
      "Are A and B disjoint? True\n",
      "Are A and C disjoint? False\n"
     ]
    }
   ],
   "source": [
    "#isdisjoint():returns True if two sets are disjoint sets. If not, it returns False.\n",
    "A = {1, 2, 3, 4}\n",
    "B = {5, 6, 7}\n",
    "C = {4, 5, 6}\n",
    "\n",
    "print('Are A and B disjoint?', A.isdisjoint(B))\n",
    "print('Are A and C disjoint?', A.isdisjoint(C))"
   ]
  },
  {
   "cell_type": "code",
   "execution_count": 19,
   "id": "76300427",
   "metadata": {},
   "outputs": [
    {
     "name": "stdout",
     "output_type": "stream",
     "text": [
      "True\n",
      "False\n",
      "False\n",
      "True\n"
     ]
    }
   ],
   "source": [
    "#issubset():returns True if all elements of a set are present in another set \n",
    "#          (passed as an argument). If not, it returns False.\n",
    "\n",
    "A = {1, 2, 3}\n",
    "B = {1, 2, 3, 4, 5}\n",
    "C = {1, 2, 4, 5}\n",
    "\n",
    "\n",
    "print(A.issubset(B))\n",
    "\n",
    "print(B.issubset(A))\n",
    "\n",
    "print(A.issubset(C))\n",
    "\n",
    "print(C.issubset(B))"
   ]
  },
  {
   "cell_type": "code",
   "execution_count": null,
   "id": "16722cbe",
   "metadata": {},
   "outputs": [],
   "source": [
    "#issuperset():returns True if a set has every elements of another set (passed as an argument).\n",
    "#             If not, it returns False.\n",
    "\n",
    "A = {1, 2, 3, 4, 5}\n",
    "B = {1, 2, 3}\n",
    "C = {1, 2, 3}\n",
    "\n",
    "# Returns True\n",
    "print(A.issuperset(B))\n",
    "\n",
    "# Returns False\n",
    "print(B.issuperset(A))\n",
    "\n",
    "# Returns True\n",
    "print(C.issuperset(B))"
   ]
  },
  {
   "cell_type": "code",
   "execution_count": 31,
   "id": "4eaf7297",
   "metadata": {},
   "outputs": [
    {
     "name": "stdout",
     "output_type": "stream",
     "text": [
      "{'cherry', 'banana'}\n",
      "apple\n"
     ]
    }
   ],
   "source": [
    "#pop():Remove a random item from the set\n",
    "fruits = {\"apple\", \"banana\", \"cherry\"}\n",
    "fruits.pop() \n",
    "print(fruits)\n",
    "\n",
    "#Return the removed element:\n",
    "fruits = {\"apple\", \"banana\", \"cherry\"}\n",
    "x = fruits.pop() \n",
    "print(x)\n"
   ]
  },
  {
   "cell_type": "code",
   "execution_count": 32,
   "id": "1f129a38",
   "metadata": {},
   "outputs": [
    {
     "name": "stdout",
     "output_type": "stream",
     "text": [
      "{'Python', 'Java'}\n"
     ]
    }
   ],
   "source": [
    "#remove():removes the specified element from the set.\n",
    "\n",
    "languages = {'Python', 'Java', 'English'}\n",
    "languages.remove('English')\n",
    "\n",
    "print(languages)"
   ]
  },
  {
   "cell_type": "code",
   "execution_count": 33,
   "id": "218853c6",
   "metadata": {},
   "outputs": [
    {
     "name": "stdout",
     "output_type": "stream",
     "text": [
      "{'a', 'b', 'e'}\n",
      "{'e', 'a', 'b'}\n",
      "{'c', 'b', 'a', 'd'}\n",
      "{'c', 'e', 'd'}\n"
     ]
    }
   ],
   "source": [
    "#symmetric_difference():The returned set contains a mix of items \n",
    "#                       that are not present in both sets.\n",
    "A = {'a', 'b', 'c', 'd'}\n",
    "B = {'c', 'd', 'e' }\n",
    "C = {}\n",
    "\n",
    "print(A.symmetric_difference(B))\n",
    "print(B.symmetric_difference(A))\n",
    "\n",
    "print(A.symmetric_difference(C))\n",
    "print(B.symmetric_difference(C))"
   ]
  },
  {
   "cell_type": "code",
   "execution_count": 34,
   "id": "c05b1e0c",
   "metadata": {},
   "outputs": [
    {
     "name": "stdout",
     "output_type": "stream",
     "text": [
      "{'google', 'microsoft', 'cherry', 'banana'}\n"
     ]
    }
   ],
   "source": [
    "#symmetric_difference_update():Remove the items that are present in both sets,\n",
    "#                              AND insert the items that is not present in both sets.\n",
    "\n",
    "x = {\"apple\", \"banana\", \"cherry\"}\n",
    "y = {\"google\", \"microsoft\", \"apple\"}\n",
    "\n",
    "x.symmetric_difference_update(y) \n",
    "\n",
    "print(x)\n"
   ]
  },
  {
   "cell_type": "code",
   "execution_count": 35,
   "id": "2513262e",
   "metadata": {},
   "outputs": [
    {
     "name": "stdout",
     "output_type": "stream",
     "text": [
      "{'banana', 'microsoft', 'cherry', 'apple', 'google'}\n"
     ]
    }
   ],
   "source": [
    "#update():updates the current set, by adding items from another set.\n",
    "\n",
    "x = {\"apple\", \"banana\", \"cherry\"}\n",
    "y = {\"google\", \"microsoft\", \"apple\"}\n",
    "\n",
    "x.update(y) \n",
    "\n",
    "print(x)\n"
   ]
  },
  {
   "cell_type": "markdown",
   "id": "6a2b38e9",
   "metadata": {},
   "source": [
    "# Dictionaries"
   ]
  },
  {
   "cell_type": "code",
   "execution_count": 9,
   "id": "8d2ddc8d",
   "metadata": {},
   "outputs": [
    {
     "name": "stdout",
     "output_type": "stream",
     "text": [
      "{'brand': 'Ford', 'electric': False, 'year': 1964, 'colors': ['red', 'white', 'blue']}\n",
      "Ford\n",
      "{1: 'apple', 2: 'ball'}\n"
     ]
    }
   ],
   "source": [
    "#Dictionaries are used to store data values in key:value pairs.\n",
    "#A dictionary is a collection which is ordered*, changeable and does not allow duplicates.\n",
    "#Dictionaries are written with curly brackets, and have keys and values.\n",
    "thisdict = {\n",
    "  \"brand\": \"Ford\",\n",
    "  \"electric\": False,\n",
    "  \"year\": 1964,\n",
    "  \"colors\": [\"red\", \"white\", \"blue\"]\n",
    "}\n",
    "\n",
    "print(thisdict)\n",
    "#access the items of a dictionary by referring to its key name, inside square brackets\n",
    "print(thisdict[\"brand\"])\n",
    "# from sequence having each item as a pair\n",
    "my_dict = dict([(1,'apple'), (2,'ball')])\n",
    "print(my_dict)"
   ]
  },
  {
   "cell_type": "code",
   "execution_count": 5,
   "id": "1488528f",
   "metadata": {},
   "outputs": [
    {
     "name": "stdout",
     "output_type": "stream",
     "text": [
      "{'brand': 'Ford', 'model': 'Mustang', 'year': 2018}\n"
     ]
    }
   ],
   "source": [
    "#Change Values\n",
    "thisdict =\t{\n",
    "  \"brand\": \"Ford\",\n",
    "  \"model\": \"Mustang\",\n",
    "  \"year\": 1964\n",
    "}\n",
    "\n",
    "thisdict[\"year\"] = 2018\n",
    "\n",
    "print(thisdict)\n"
   ]
  },
  {
   "cell_type": "code",
   "execution_count": 8,
   "id": "c55403b9",
   "metadata": {},
   "outputs": [
    {
     "name": "stdout",
     "output_type": "stream",
     "text": [
      "{1: 'apple', 2: 'ball'}\n"
     ]
    }
   ],
   "source": [
    "# empty dictionary\n",
    "my_dict = {}\n",
    "\n",
    "# dictionary with integer keys\n",
    "my_dict = {1: 'apple', 2: 'ball'}\n",
    "\n",
    "# dictionary with mixed keys\n",
    "my_dict = {'name': 'John', 1: [2, 4, 3]}\n",
    "\n",
    "# using dict()\n",
    "my_dict = dict({1:'apple', 2:'ball'})\n",
    "\n",
    "# from sequence having each item as a pair\n",
    "my_dict = dict([(1,'apple'), (2,'ball')])\n",
    "print(my_dict)"
   ]
  },
  {
   "cell_type": "markdown",
   "id": "c1ec281f",
   "metadata": {},
   "source": [
    "# Datetime"
   ]
  },
  {
   "cell_type": "code",
   "execution_count": 1,
   "id": "ab7f0721",
   "metadata": {},
   "outputs": [
    {
     "name": "stdout",
     "output_type": "stream",
     "text": [
      "2021-09-19 15:24:06.021984\n"
     ]
    }
   ],
   "source": [
    "import datetime\n",
    "\n",
    "x = datetime.datetime.now()\n",
    "\n",
    "print(x)\n"
   ]
  },
  {
   "cell_type": "code",
   "execution_count": 11,
   "id": "bb0152bb",
   "metadata": {},
   "outputs": [
    {
     "name": "stdout",
     "output_type": "stream",
     "text": [
      "5.25\n"
     ]
    }
   ],
   "source": [
    "x = 20\n",
    "y = 5\n",
    "result = (x + True) / (4 - y * False)\n",
    "print(result)"
   ]
  },
  {
   "cell_type": "code",
   "execution_count": null,
   "id": "06af3d45",
   "metadata": {},
   "outputs": [],
   "source": []
  }
 ],
 "metadata": {
  "kernelspec": {
   "display_name": "Python 3",
   "language": "python",
   "name": "python3"
  },
  "language_info": {
   "codemirror_mode": {
    "name": "ipython",
    "version": 3
   },
   "file_extension": ".py",
   "mimetype": "text/x-python",
   "name": "python",
   "nbconvert_exporter": "python",
   "pygments_lexer": "ipython3",
   "version": "3.8.8"
  }
 },
 "nbformat": 4,
 "nbformat_minor": 5
}
